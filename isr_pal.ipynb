{
 "cells": [
  {
   "cell_type": "code",
   "execution_count": 1,
   "id": "0c232c8a",
   "metadata": {
    "_cell_guid": "b1076dfc-b9ad-4769-8c92-a6c4dae69d19",
    "_uuid": "8f2839f25d086af736a60e9eeb907d3b93b6e0e5",
    "execution": {
     "iopub.execute_input": "2023-12-10T19:35:21.163513Z",
     "iopub.status.busy": "2023-12-10T19:35:21.163113Z",
     "iopub.status.idle": "2023-12-10T19:35:21.846413Z",
     "shell.execute_reply": "2023-12-10T19:35:21.845403Z"
    },
    "papermill": {
     "duration": 0.70266,
     "end_time": "2023-12-10T19:35:21.848960",
     "exception": false,
     "start_time": "2023-12-10T19:35:21.146300",
     "status": "completed"
    },
    "tags": []
   },
   "outputs": [
    {
     "name": "stdout",
     "output_type": "stream",
     "text": [
      "/kaggle/input/pse-isr-reddit-comments-4lac-csv/pse_isr_reddit_comments.csv\n"
     ]
    }
   ],
   "source": [
    "# This Python 3 environment comes with many helpful analytics libraries installed\n",
    "# It is defined by the kaggle/python Docker image: https://github.com/kaggle/docker-python\n",
    "# For example, here's several helpful packages to load/kaggle/input/pse-isr-reddit-comments-4lac-csv/pse_isr_reddit_comments.csv\n",
    "import numpy as np # linear algebra\n",
    "import pandas as pd # data processing, CSV file I/O (e.g. pd.read_csv)\n",
    "\n",
    "# Input data files are available in the read-only \"../input/\" directory\n",
    "# For example, running this (by clicking run or pressing Shift+Enter) will list all files under the input directory\n",
    "\n",
    "import os\n",
    "for dirname, _, filenames in os.walk('/kaggle/input'):\n",
    "    for filename in filenames:\n",
    "        print(os.path.join(dirname, filename))\n",
    "\n",
    "# You can write up to 20GB to the current directory (/kaggle/working/) that gets preserved as output when you create a version using \"Save & Run All\" \n",
    "# You can also write temporary files to /kaggle/temp/, but they won't be saved outside of the current session"
   ]
  },
  {
   "cell_type": "code",
   "execution_count": 2,
   "id": "b59947f4",
   "metadata": {
    "execution": {
     "iopub.execute_input": "2023-12-10T19:35:21.882146Z",
     "iopub.status.busy": "2023-12-10T19:35:21.881232Z",
     "iopub.status.idle": "2023-12-10T19:35:23.882589Z",
     "shell.execute_reply": "2023-12-10T19:35:23.881745Z"
    },
    "papermill": {
     "duration": 2.020204,
     "end_time": "2023-12-10T19:35:23.884798",
     "exception": false,
     "start_time": "2023-12-10T19:35:21.864594",
     "status": "completed"
    },
    "tags": []
   },
   "outputs": [
    {
     "name": "stderr",
     "output_type": "stream",
     "text": [
      "/opt/conda/lib/python3.10/site-packages/scipy/__init__.py:146: UserWarning: A NumPy version >=1.16.5 and <1.23.0 is required for this version of SciPy (detected version 1.24.3\n",
      "  warnings.warn(f\"A NumPy version >={np_minversion} and <{np_maxversion}\"\n",
      "/opt/conda/lib/python3.10/site-packages/nltk/twitter/__init__.py:20: UserWarning: The twython library has not been installed. Some functionality from the twitter package will not be available.\n",
      "  warnings.warn(\"The twython library has not been installed. \"\n"
     ]
    }
   ],
   "source": [
    "import pandas as pd\n",
    "from sklearn.feature_extraction.text import TfidfVectorizer\n",
    "from sklearn.cluster import KMeans\n",
    "from nltk.corpus import stopwords\n",
    "from nltk.tokenize import word_tokenize\n",
    "from sklearn.decomposition import PCA\n",
    "import matplotlib.pyplot as plt\n",
    "import re\n",
    "import numpy as np\n",
    "from bs4 import BeautifulSoup\n",
    "from nltk.stem import WordNetLemmatizer\n",
    "from nltk.sentiment.vader import SentimentIntensityAnalyzer\n",
    "import seaborn as sns\n",
    "import matplotlib.pyplot as plt\n",
    "from wordcloud import WordCloud, STOPWORDS\n",
    "from sklearn.feature_extraction.text import TfidfVectorizer\n",
    "from sklearn.decomposition import LatentDirichletAllocation"
   ]
  },
  {
   "cell_type": "code",
   "execution_count": 3,
   "id": "2aa7c623",
   "metadata": {
    "execution": {
     "iopub.execute_input": "2023-12-10T19:35:23.916665Z",
     "iopub.status.busy": "2023-12-10T19:35:23.916174Z",
     "iopub.status.idle": "2023-12-10T19:35:23.920503Z",
     "shell.execute_reply": "2023-12-10T19:35:23.919629Z"
    },
    "papermill": {
     "duration": 0.022366,
     "end_time": "2023-12-10T19:35:23.922393",
     "exception": false,
     "start_time": "2023-12-10T19:35:23.900027",
     "status": "completed"
    },
    "tags": []
   },
   "outputs": [],
   "source": [
    "path_data=\"/kaggle/input/pse-isr-reddit-comments-4lac-csv/pse_isr_reddit_comments.csv\""
   ]
  },
  {
   "cell_type": "code",
   "execution_count": 4,
   "id": "33357540",
   "metadata": {
    "execution": {
     "iopub.execute_input": "2023-12-10T19:35:23.954981Z",
     "iopub.status.busy": "2023-12-10T19:35:23.954651Z",
     "iopub.status.idle": "2023-12-10T19:35:27.548631Z",
     "shell.execute_reply": "2023-12-10T19:35:27.547399Z"
    },
    "papermill": {
     "duration": 3.612027,
     "end_time": "2023-12-10T19:35:27.550835",
     "exception": false,
     "start_time": "2023-12-10T19:35:23.938808",
     "status": "completed"
    },
    "tags": []
   },
   "outputs": [
    {
     "data": {
      "text/html": [
       "<div>\n",
       "<style scoped>\n",
       "    .dataframe tbody tr th:only-of-type {\n",
       "        vertical-align: middle;\n",
       "    }\n",
       "\n",
       "    .dataframe tbody tr th {\n",
       "        vertical-align: top;\n",
       "    }\n",
       "\n",
       "    .dataframe thead th {\n",
       "        text-align: right;\n",
       "    }\n",
       "</style>\n",
       "<table border=\"1\" class=\"dataframe\">\n",
       "  <thead>\n",
       "    <tr style=\"text-align: right;\">\n",
       "      <th></th>\n",
       "      <th>comment_id</th>\n",
       "      <th>score</th>\n",
       "      <th>self_text</th>\n",
       "      <th>subreddit</th>\n",
       "      <th>created_time</th>\n",
       "    </tr>\n",
       "  </thead>\n",
       "  <tbody>\n",
       "    <tr>\n",
       "      <th>0</th>\n",
       "      <td>k70vrzb</td>\n",
       "      <td>1</td>\n",
       "      <td>Lol what kind of busted translator device you ...</td>\n",
       "      <td>IsraelPalestine</td>\n",
       "      <td>2023-10-29 23:59:03+00:00</td>\n",
       "    </tr>\n",
       "    <tr>\n",
       "      <th>1</th>\n",
       "      <td>k70vk4r</td>\n",
       "      <td>1</td>\n",
       "      <td>Translation:\\n\\nAmen. Kill jews and continue g...</td>\n",
       "      <td>IsraelPalestine</td>\n",
       "      <td>2023-10-29 23:57:29+00:00</td>\n",
       "    </tr>\n",
       "    <tr>\n",
       "      <th>2</th>\n",
       "      <td>k70vhew</td>\n",
       "      <td>1</td>\n",
       "      <td>Friendly fact reminder: Israel has been steali...</td>\n",
       "      <td>IsraelPalestine</td>\n",
       "      <td>2023-10-29 23:56:58+00:00</td>\n",
       "    </tr>\n",
       "    <tr>\n",
       "      <th>3</th>\n",
       "      <td>k70ve4h</td>\n",
       "      <td>1</td>\n",
       "      <td>Well, i would never support Hamas, but there a...</td>\n",
       "      <td>IsraelPalestine</td>\n",
       "      <td>2023-10-29 23:56:18+00:00</td>\n",
       "    </tr>\n",
       "    <tr>\n",
       "      <th>4</th>\n",
       "      <td>k70vay1</td>\n",
       "      <td>1</td>\n",
       "      <td>/u/TickeMeTendie. This is an automatic notice:...</td>\n",
       "      <td>IsraelPalestine</td>\n",
       "      <td>2023-10-29 23:55:42+00:00</td>\n",
       "    </tr>\n",
       "    <tr>\n",
       "      <th>...</th>\n",
       "      <td>...</td>\n",
       "      <td>...</td>\n",
       "      <td>...</td>\n",
       "      <td>...</td>\n",
       "      <td>...</td>\n",
       "    </tr>\n",
       "    <tr>\n",
       "      <th>436720</th>\n",
       "      <td>k3sdwfc</td>\n",
       "      <td>42</td>\n",
       "      <td>US. This is bullshit</td>\n",
       "      <td>Palestine</td>\n",
       "      <td>2023-10-06 23:50:11+00:00</td>\n",
       "    </tr>\n",
       "    <tr>\n",
       "      <th>436721</th>\n",
       "      <td>k3sdixt</td>\n",
       "      <td>1</td>\n",
       "      <td>I am in the United States and it has the dotte...</td>\n",
       "      <td>Palestine</td>\n",
       "      <td>2023-10-06 23:47:23+00:00</td>\n",
       "    </tr>\n",
       "    <tr>\n",
       "      <th>436722</th>\n",
       "      <td>k3sccp2</td>\n",
       "      <td>54</td>\n",
       "      <td>In which country are you?\\nSometimes maps adap...</td>\n",
       "      <td>Palestine</td>\n",
       "      <td>2023-10-06 23:38:26+00:00</td>\n",
       "    </tr>\n",
       "    <tr>\n",
       "      <th>436723</th>\n",
       "      <td>k3ritvj</td>\n",
       "      <td>116</td>\n",
       "      <td>You can't give up on something you only preten...</td>\n",
       "      <td>worldnews</td>\n",
       "      <td>2023-10-06 20:16:05+00:00</td>\n",
       "    </tr>\n",
       "    <tr>\n",
       "      <th>436724</th>\n",
       "      <td>k3riboh</td>\n",
       "      <td>30</td>\n",
       "      <td>&amp;gt; The head of Islamic Jihad denounced Arab ...</td>\n",
       "      <td>worldnews</td>\n",
       "      <td>2023-10-06 20:12:58+00:00</td>\n",
       "    </tr>\n",
       "  </tbody>\n",
       "</table>\n",
       "<p>436725 rows × 5 columns</p>\n",
       "</div>"
      ],
      "text/plain": [
       "       comment_id  score                                          self_text  \\\n",
       "0         k70vrzb      1  Lol what kind of busted translator device you ...   \n",
       "1         k70vk4r      1  Translation:\\n\\nAmen. Kill jews and continue g...   \n",
       "2         k70vhew      1  Friendly fact reminder: Israel has been steali...   \n",
       "3         k70ve4h      1  Well, i would never support Hamas, but there a...   \n",
       "4         k70vay1      1  /u/TickeMeTendie. This is an automatic notice:...   \n",
       "...           ...    ...                                                ...   \n",
       "436720    k3sdwfc     42                               US. This is bullshit   \n",
       "436721    k3sdixt      1  I am in the United States and it has the dotte...   \n",
       "436722    k3sccp2     54  In which country are you?\\nSometimes maps adap...   \n",
       "436723    k3ritvj    116  You can't give up on something you only preten...   \n",
       "436724    k3riboh     30  &gt; The head of Islamic Jihad denounced Arab ...   \n",
       "\n",
       "              subreddit               created_time  \n",
       "0       IsraelPalestine  2023-10-29 23:59:03+00:00  \n",
       "1       IsraelPalestine  2023-10-29 23:57:29+00:00  \n",
       "2       IsraelPalestine  2023-10-29 23:56:58+00:00  \n",
       "3       IsraelPalestine  2023-10-29 23:56:18+00:00  \n",
       "4       IsraelPalestine  2023-10-29 23:55:42+00:00  \n",
       "...                 ...                        ...  \n",
       "436720        Palestine  2023-10-06 23:50:11+00:00  \n",
       "436721        Palestine  2023-10-06 23:47:23+00:00  \n",
       "436722        Palestine  2023-10-06 23:38:26+00:00  \n",
       "436723        worldnews  2023-10-06 20:16:05+00:00  \n",
       "436724        worldnews  2023-10-06 20:12:58+00:00  \n",
       "\n",
       "[436725 rows x 5 columns]"
      ]
     },
     "execution_count": 4,
     "metadata": {},
     "output_type": "execute_result"
    }
   ],
   "source": [
    "df = pd.read_csv(path_data)\n",
    "df"
   ]
  },
  {
   "cell_type": "code",
   "execution_count": 5,
   "id": "17142496",
   "metadata": {
    "execution": {
     "iopub.execute_input": "2023-12-10T19:35:27.585228Z",
     "iopub.status.busy": "2023-12-10T19:35:27.584756Z",
     "iopub.status.idle": "2023-12-10T19:35:27.779244Z",
     "shell.execute_reply": "2023-12-10T19:35:27.778238Z"
    },
    "papermill": {
     "duration": 0.214096,
     "end_time": "2023-12-10T19:35:27.781403",
     "exception": false,
     "start_time": "2023-12-10T19:35:27.567307",
     "status": "completed"
    },
    "tags": []
   },
   "outputs": [
    {
     "name": "stdout",
     "output_type": "stream",
     "text": [
      "<class 'pandas.core.frame.DataFrame'>\n",
      "RangeIndex: 436725 entries, 0 to 436724\n",
      "Data columns (total 5 columns):\n",
      " #   Column        Non-Null Count   Dtype \n",
      "---  ------        --------------   ----- \n",
      " 0   comment_id    436725 non-null  object\n",
      " 1   score         436725 non-null  int64 \n",
      " 2   self_text     436725 non-null  object\n",
      " 3   subreddit     436725 non-null  object\n",
      " 4   created_time  436725 non-null  object\n",
      "dtypes: int64(1), object(4)\n",
      "memory usage: 16.7+ MB\n"
     ]
    }
   ],
   "source": [
    "df.info()"
   ]
  },
  {
   "cell_type": "code",
   "execution_count": 6,
   "id": "7c8e2349",
   "metadata": {
    "execution": {
     "iopub.execute_input": "2023-12-10T19:35:27.815627Z",
     "iopub.status.busy": "2023-12-10T19:35:27.815265Z",
     "iopub.status.idle": "2023-12-10T19:35:27.881067Z",
     "shell.execute_reply": "2023-12-10T19:35:27.880107Z"
    },
    "papermill": {
     "duration": 0.085816,
     "end_time": "2023-12-10T19:35:27.883096",
     "exception": false,
     "start_time": "2023-12-10T19:35:27.797280",
     "status": "completed"
    },
    "tags": []
   },
   "outputs": [
    {
     "data": {
      "text/plain": [
       "0"
      ]
     },
     "execution_count": 6,
     "metadata": {},
     "output_type": "execute_result"
    }
   ],
   "source": [
    "df['self_text'].isnull().sum( )"
   ]
  },
  {
   "cell_type": "code",
   "execution_count": 7,
   "id": "cb24ab4e",
   "metadata": {
    "execution": {
     "iopub.execute_input": "2023-12-10T19:35:27.918033Z",
     "iopub.status.busy": "2023-12-10T19:35:27.917708Z",
     "iopub.status.idle": "2023-12-10T19:35:27.924054Z",
     "shell.execute_reply": "2023-12-10T19:35:27.923141Z"
    },
    "papermill": {
     "duration": 0.025873,
     "end_time": "2023-12-10T19:35:27.926008",
     "exception": false,
     "start_time": "2023-12-10T19:35:27.900135",
     "status": "completed"
    },
    "tags": []
   },
   "outputs": [
    {
     "data": {
      "text/plain": [
       "Index(['comment_id', 'score', 'self_text', 'subreddit', 'created_time'], dtype='object')"
      ]
     },
     "execution_count": 7,
     "metadata": {},
     "output_type": "execute_result"
    }
   ],
   "source": [
    "df.columns"
   ]
  },
  {
   "cell_type": "code",
   "execution_count": 8,
   "id": "8ca5f672",
   "metadata": {
    "execution": {
     "iopub.execute_input": "2023-12-10T19:35:27.962456Z",
     "iopub.status.busy": "2023-12-10T19:35:27.961692Z",
     "iopub.status.idle": "2023-12-10T19:35:28.766793Z",
     "shell.execute_reply": "2023-12-10T19:35:28.765934Z"
    },
    "papermill": {
     "duration": 0.826609,
     "end_time": "2023-12-10T19:35:28.769123",
     "exception": false,
     "start_time": "2023-12-10T19:35:27.942514",
     "status": "completed"
    },
    "tags": []
   },
   "outputs": [],
   "source": [
    "df['self_text'] = df['self_text'] + ' and the confidence is ' + (df['score'] * 100).astype(str) + ' percent.'"
   ]
  },
  {
   "cell_type": "code",
   "execution_count": 9,
   "id": "c4032317",
   "metadata": {
    "execution": {
     "iopub.execute_input": "2023-12-10T19:35:28.802056Z",
     "iopub.status.busy": "2023-12-10T19:35:28.801739Z",
     "iopub.status.idle": "2023-12-10T19:35:28.806954Z",
     "shell.execute_reply": "2023-12-10T19:35:28.806077Z"
    },
    "papermill": {
     "duration": 0.02434,
     "end_time": "2023-12-10T19:35:28.809338",
     "exception": false,
     "start_time": "2023-12-10T19:35:28.784998",
     "status": "completed"
    },
    "tags": []
   },
   "outputs": [
    {
     "name": "stdout",
     "output_type": "stream",
     "text": [
      "Lol what kind of busted translator device you got. Does it speak only hasbara? and the confidence is 100 percent.\n",
      "Translation:\n",
      "\n",
      "Amen. Kill jews and continue gazan oppression! and the confidence is 100 percent.\n",
      "Friendly fact reminder: Israel has been stealing Palestines land, bombing their civilians, controlling their access to water/food and kidnapping Palestinian civilians for over 50 years. Israel has  been committing genocide on Palestine but somehow people like you like to place the blame on Palestine. If you think Hamas is bad, I have some bad news about the IDF for you. and the confidence is 100 percent.\n",
      "Well, i would never support Hamas, but there actions Israel could do that would make me stop supporting it: State orginized killing of Israeli or west bank Arabs or use of Atomic weaponary. and the confidence is 100 percent.\n",
      "/u/TickeMeTendie. This is an automatic notice: \n",
      "'Nazis' Casual comments and analogies are inflammatory and therefor not allowed.  \n",
      "We allow for exemptions for comments with meaningful information that must be based on historical facts accepted by mainstream historians. See [Rule 6](https://www.reddit.com/r/IsraelPalestine/wiki/rules/detailed-rules#wiki_6._nazi_comparisons) for details.  \n",
      "This bot flags comments using simple word detection, and cannot distinguish between acceptable and unacceptable usage. Please take a moment to review your comment to confirm that it is in compliance.\n",
      "\n",
      "\n",
      "*I am a bot, and this action was performed automatically. Please [contact the moderators of this subreddit](/message/compose/?to=/r/IsraelPalestine) if you have any questions or concerns.* and the confidence is 100 percent.\n",
      "There is absolutely evidence of Hamas taking Captagon - a drug similar to Pervitin, which the Nazis took - and it’s been reported by multiple outlets. \n",
      "\n",
      "https://www.businessinsider.com/hamas-militants-high-poor-mans-cocaine-oct-7-attacks-report-2023-10?amp\n",
      "\n",
      "https://nypost.com/2023/10/23/hamas-terrorists-were-high-on-poor-mans-cocaine-report/amp/ and the confidence is 100 percent.\n",
      "Do you have the avtual link to the new york times? Because I looked at it and they said hamas didnt give them any evidance. All of of this is just lies and the confidence is 100 percent.\n",
      "I didn't deny anything you said.\n",
      "\n",
      "I said Israel doesn't use human shields and Gaza does. Which is a fact.\n",
      "\n",
      "You chose to change the subject to Israel having locals in Gaza deliver messages for them years ago. The behavior you're complaining about ceased.\n",
      "\n",
      "So what was the point of bringing it up when I said Israel doesn't use human shields and Gaza does? Just as a distraction? and the confidence is 100 percent.\n",
      "&gt;Yes, exactly, Hamas attacked, not the 1 million kids in Gaza. No amount of capslock or invoking of October 7th is gonna make murdering kids ok\n",
      "\n",
      "Which makes all of that Hamas's fault.  EVERY death since October 7th, by bullet, bomb, every single kid who dies, is Hamas's fault.\n",
      "\n",
      "That's why in the United States if you're part of a 3 person bank robbery, every person who dies is a murder that is on your hands.  Even the 2 other people who are with you, if they get shot by a security guard, that's a murder charge for you, because you're the one responsible for everything that happened as a result of you taking a gun into a bank to commit a robbery.\n",
      "\n",
      "The safety of every child in Gaza was Hama's responsibility, and they willingly put all of those lives in jeopardy when they attacked Israel.  So spare us all the equivocation and acting like all of this is suddenly some evil that the Israeli's are perpetrating on the innocents of Gaza ... Hamas could stop all of this at any moment if they wanted to, all they'd have to do is lay down their weapons, release their hostages, and surrender to be judged for their crimes on October 7th.\n",
      "\n",
      "If you want to complain about the innocent lives being lost in Gaza, complain to Hamas, because every death that has occurred in battle since October 7th has been Hamas's fault. and the confidence is 100 percent.\n",
      "Firstly, even in the best scenario you are confusing \"Gazans\" with \"Palestinians\", which is particularly disgusting since Israelis are doing unjustifiable attacks on West Bank Palestinians right now.\n",
      "\n",
      "Secondly, even if we knew that 99% of Gazans support Hamas, it would still be bad to think in this way, because it does not allow for even the possibility of peace without ethnic cleansing. and the confidence is 100 percent.\n"
     ]
    }
   ],
   "source": [
    "for i in range(10):\n",
    "    print(df.self_text[i])"
   ]
  },
  {
   "cell_type": "code",
   "execution_count": 10,
   "id": "313b1ba8",
   "metadata": {
    "execution": {
     "iopub.execute_input": "2023-12-10T19:35:28.842918Z",
     "iopub.status.busy": "2023-12-10T19:35:28.842111Z",
     "iopub.status.idle": "2023-12-10T19:35:29.080294Z",
     "shell.execute_reply": "2023-12-10T19:35:29.079380Z"
    },
    "papermill": {
     "duration": 0.257449,
     "end_time": "2023-12-10T19:35:29.082461",
     "exception": false,
     "start_time": "2023-12-10T19:35:28.825012",
     "status": "completed"
    },
    "tags": []
   },
   "outputs": [
    {
     "name": "stdout",
     "output_type": "stream",
     "text": [
      "Successfully unzipped /usr/share/nltk_data/corpora/wordnet.zip to /usr/share/nltk_data/corpora/\n"
     ]
    }
   ],
   "source": [
    "import zipfile\n",
    "import os\n",
    "\n",
    "zip_file_path = '/usr/share/nltk_data/corpora/wordnet.zip'\n",
    "destination_directory = '/usr/share/nltk_data/corpora/'\n",
    "\n",
    "# Check if the specific file exists in the destination directory\n",
    "file_to_check = 'index.adv'\n",
    "file_path_to_check = os.path.join(destination_directory, 'wordnet', file_to_check)\n",
    "\n",
    "if not os.path.exists(file_path_to_check):\n",
    "    # Unzip the entire archive if the specific file doesn't exist\n",
    "    with zipfile.ZipFile(zip_file_path, 'r') as zip_ref:\n",
    "        zip_ref.extractall(destination_directory)\n",
    "    print(f\"Successfully unzipped {zip_file_path} to {destination_directory}\")\n",
    "else:\n",
    "    print(f\"File {file_to_check} already exists. No need to unzip the archive.\")"
   ]
  },
  {
   "cell_type": "code",
   "execution_count": 11,
   "id": "bd916659",
   "metadata": {
    "execution": {
     "iopub.execute_input": "2023-12-10T19:35:29.116385Z",
     "iopub.status.busy": "2023-12-10T19:35:29.115722Z",
     "iopub.status.idle": "2023-12-10T19:35:29.733063Z",
     "shell.execute_reply": "2023-12-10T19:35:29.732127Z"
    },
    "papermill": {
     "duration": 0.636648,
     "end_time": "2023-12-10T19:35:29.735356",
     "exception": false,
     "start_time": "2023-12-10T19:35:29.098708",
     "status": "completed"
    },
    "tags": []
   },
   "outputs": [],
   "source": [
    "# removing usernames from tweet\n",
    "df['clean_text'] = df.self_text.str.replace(\"[@user]\", \" \")\n",
    "df['clean_text'] = df.self_text.str.replace(\"[r'\\W+]\",\" \")"
   ]
  },
  {
   "cell_type": "code",
   "execution_count": 12,
   "id": "a4bd70c9",
   "metadata": {
    "execution": {
     "iopub.execute_input": "2023-12-10T19:35:29.818967Z",
     "iopub.status.busy": "2023-12-10T19:35:29.818275Z",
     "iopub.status.idle": "2023-12-10T19:35:33.898687Z",
     "shell.execute_reply": "2023-12-10T19:35:33.897857Z"
    },
    "papermill": {
     "duration": 4.100126,
     "end_time": "2023-12-10T19:35:33.901083",
     "exception": false,
     "start_time": "2023-12-10T19:35:29.800957",
     "status": "completed"
    },
    "tags": []
   },
   "outputs": [],
   "source": [
    "#Removing Punctuations, Numbers, and Special Characters\n",
    "#[a-zA-Z] = Any single character in the range a-z or A-Z\n",
    "df['clean_text'] = df['clean_text'].str.replace(\"[^a-zA-Z#]\", \" \")\n",
    "df['clean_text'] = df['clean_text'].str.replace(\"<br />\", \" \")\n",
    "df['clean_text'] = df['clean_text'].str.replace(\"@[A-Za-z0-9]+\", \" \")\n",
    "df['clean_text'] = df['clean_text'].str.replace(\"https?://[A-Za-z0-9./]+\", \" \")\n",
    "df['clean_text'] = df['clean_text'].str.replace(\"[^a-zA-z.!?'0-9]\", \" \")\n",
    "df['clean_text'] = df['clean_text'].str.replace(\"\\t\", \" \")\n",
    "df['clean_text'] = df['clean_text'].str.replace(\" +\", \" \")\n",
    "df['clean_text'] = df['clean_text'].str.replace(\"br\", \" \")\n",
    "df['clean_text'] = df['clean_text'].str.replace(\"<\", \" \")\n",
    "df['clean_text'] = df['clean_text'].str.replace(\"/\", \" \")\n",
    "df['clean_text'] = df['clean_text'].str.replace(\">\", \" \")\n",
    "df['clean_text'] = df['clean_text'].str.replace(\";\", \" \")\n",
    "df['clean_text'] = df['clean_text'].str.replace(\"&\", \" \")"
   ]
  },
  {
   "cell_type": "code",
   "execution_count": 13,
   "id": "fe2fc8eb",
   "metadata": {
    "execution": {
     "iopub.execute_input": "2023-12-10T19:35:33.934993Z",
     "iopub.status.busy": "2023-12-10T19:35:33.934394Z",
     "iopub.status.idle": "2023-12-10T19:35:33.945719Z",
     "shell.execute_reply": "2023-12-10T19:35:33.944747Z"
    },
    "papermill": {
     "duration": 0.03024,
     "end_time": "2023-12-10T19:35:33.947650",
     "exception": false,
     "start_time": "2023-12-10T19:35:33.917410",
     "status": "completed"
    },
    "tags": []
   },
   "outputs": [
    {
     "data": {
      "text/html": [
       "<div>\n",
       "<style scoped>\n",
       "    .dataframe tbody tr th:only-of-type {\n",
       "        vertical-align: middle;\n",
       "    }\n",
       "\n",
       "    .dataframe tbody tr th {\n",
       "        vertical-align: top;\n",
       "    }\n",
       "\n",
       "    .dataframe thead th {\n",
       "        text-align: right;\n",
       "    }\n",
       "</style>\n",
       "<table border=\"1\" class=\"dataframe\">\n",
       "  <thead>\n",
       "    <tr style=\"text-align: right;\">\n",
       "      <th></th>\n",
       "      <th>comment_id</th>\n",
       "      <th>score</th>\n",
       "      <th>self_text</th>\n",
       "      <th>subreddit</th>\n",
       "      <th>created_time</th>\n",
       "      <th>clean_text</th>\n",
       "    </tr>\n",
       "  </thead>\n",
       "  <tbody>\n",
       "    <tr>\n",
       "      <th>0</th>\n",
       "      <td>k70vrzb</td>\n",
       "      <td>1</td>\n",
       "      <td>Lol what kind of busted translator device you ...</td>\n",
       "      <td>IsraelPalestine</td>\n",
       "      <td>2023-10-29 23:59:03+00:00</td>\n",
       "      <td>Lol what kind of busted translator device you ...</td>\n",
       "    </tr>\n",
       "    <tr>\n",
       "      <th>1</th>\n",
       "      <td>k70vk4r</td>\n",
       "      <td>1</td>\n",
       "      <td>Translation:\\n\\nAmen. Kill jews and continue g...</td>\n",
       "      <td>IsraelPalestine</td>\n",
       "      <td>2023-10-29 23:57:29+00:00</td>\n",
       "      <td>Translation:\\n\\nAmen. Kill jews and continue g...</td>\n",
       "    </tr>\n",
       "    <tr>\n",
       "      <th>2</th>\n",
       "      <td>k70vhew</td>\n",
       "      <td>1</td>\n",
       "      <td>Friendly fact reminder: Israel has been steali...</td>\n",
       "      <td>IsraelPalestine</td>\n",
       "      <td>2023-10-29 23:56:58+00:00</td>\n",
       "      <td>Friendly fact reminder: Israel has been steali...</td>\n",
       "    </tr>\n",
       "    <tr>\n",
       "      <th>3</th>\n",
       "      <td>k70ve4h</td>\n",
       "      <td>1</td>\n",
       "      <td>Well, i would never support Hamas, but there a...</td>\n",
       "      <td>IsraelPalestine</td>\n",
       "      <td>2023-10-29 23:56:18+00:00</td>\n",
       "      <td>Well, i would never support Hamas, but there a...</td>\n",
       "    </tr>\n",
       "    <tr>\n",
       "      <th>4</th>\n",
       "      <td>k70vay1</td>\n",
       "      <td>1</td>\n",
       "      <td>/u/TickeMeTendie. This is an automatic notice:...</td>\n",
       "      <td>IsraelPalestine</td>\n",
       "      <td>2023-10-29 23:55:42+00:00</td>\n",
       "      <td>u TickeMeTendie. This is an automatic notice:...</td>\n",
       "    </tr>\n",
       "  </tbody>\n",
       "</table>\n",
       "</div>"
      ],
      "text/plain": [
       "  comment_id  score                                          self_text  \\\n",
       "0    k70vrzb      1  Lol what kind of busted translator device you ...   \n",
       "1    k70vk4r      1  Translation:\\n\\nAmen. Kill jews and continue g...   \n",
       "2    k70vhew      1  Friendly fact reminder: Israel has been steali...   \n",
       "3    k70ve4h      1  Well, i would never support Hamas, but there a...   \n",
       "4    k70vay1      1  /u/TickeMeTendie. This is an automatic notice:...   \n",
       "\n",
       "         subreddit               created_time  \\\n",
       "0  IsraelPalestine  2023-10-29 23:59:03+00:00   \n",
       "1  IsraelPalestine  2023-10-29 23:57:29+00:00   \n",
       "2  IsraelPalestine  2023-10-29 23:56:58+00:00   \n",
       "3  IsraelPalestine  2023-10-29 23:56:18+00:00   \n",
       "4  IsraelPalestine  2023-10-29 23:55:42+00:00   \n",
       "\n",
       "                                          clean_text  \n",
       "0  Lol what kind of busted translator device you ...  \n",
       "1  Translation:\\n\\nAmen. Kill jews and continue g...  \n",
       "2  Friendly fact reminder: Israel has been steali...  \n",
       "3  Well, i would never support Hamas, but there a...  \n",
       "4   u TickeMeTendie. This is an automatic notice:...  "
      ]
     },
     "execution_count": 13,
     "metadata": {},
     "output_type": "execute_result"
    }
   ],
   "source": [
    "df.head(5)"
   ]
  },
  {
   "cell_type": "code",
   "execution_count": 14,
   "id": "040c4fff",
   "metadata": {
    "execution": {
     "iopub.execute_input": "2023-12-10T19:35:33.983137Z",
     "iopub.status.busy": "2023-12-10T19:35:33.982817Z",
     "iopub.status.idle": "2023-12-10T19:35:37.878787Z",
     "shell.execute_reply": "2023-12-10T19:35:37.877768Z"
    },
    "papermill": {
     "duration": 3.916236,
     "end_time": "2023-12-10T19:35:37.880771",
     "exception": false,
     "start_time": "2023-12-10T19:35:33.964535",
     "status": "completed"
    },
    "tags": []
   },
   "outputs": [
    {
     "data": {
      "text/html": [
       "<div>\n",
       "<style scoped>\n",
       "    .dataframe tbody tr th:only-of-type {\n",
       "        vertical-align: middle;\n",
       "    }\n",
       "\n",
       "    .dataframe tbody tr th {\n",
       "        vertical-align: top;\n",
       "    }\n",
       "\n",
       "    .dataframe thead th {\n",
       "        text-align: right;\n",
       "    }\n",
       "</style>\n",
       "<table border=\"1\" class=\"dataframe\">\n",
       "  <thead>\n",
       "    <tr style=\"text-align: right;\">\n",
       "      <th></th>\n",
       "      <th>comment_id</th>\n",
       "      <th>score</th>\n",
       "      <th>self_text</th>\n",
       "      <th>subreddit</th>\n",
       "      <th>created_time</th>\n",
       "      <th>clean_text</th>\n",
       "    </tr>\n",
       "  </thead>\n",
       "  <tbody>\n",
       "    <tr>\n",
       "      <th>0</th>\n",
       "      <td>k70vrzb</td>\n",
       "      <td>1</td>\n",
       "      <td>Lol what kind of busted translator device you ...</td>\n",
       "      <td>IsraelPalestine</td>\n",
       "      <td>2023-10-29 23:59:03+00:00</td>\n",
       "      <td>[Lol, what, kind, of, busted, translator, devi...</td>\n",
       "    </tr>\n",
       "    <tr>\n",
       "      <th>1</th>\n",
       "      <td>k70vk4r</td>\n",
       "      <td>1</td>\n",
       "      <td>Translation:\\n\\nAmen. Kill jews and continue g...</td>\n",
       "      <td>IsraelPalestine</td>\n",
       "      <td>2023-10-29 23:57:29+00:00</td>\n",
       "      <td>[Translation:, Amen., Kill, jews, and, continu...</td>\n",
       "    </tr>\n",
       "    <tr>\n",
       "      <th>2</th>\n",
       "      <td>k70vhew</td>\n",
       "      <td>1</td>\n",
       "      <td>Friendly fact reminder: Israel has been steali...</td>\n",
       "      <td>IsraelPalestine</td>\n",
       "      <td>2023-10-29 23:56:58+00:00</td>\n",
       "      <td>[Friendly, fact, reminder:, Israel, has, been,...</td>\n",
       "    </tr>\n",
       "    <tr>\n",
       "      <th>3</th>\n",
       "      <td>k70ve4h</td>\n",
       "      <td>1</td>\n",
       "      <td>Well, i would never support Hamas, but there a...</td>\n",
       "      <td>IsraelPalestine</td>\n",
       "      <td>2023-10-29 23:56:18+00:00</td>\n",
       "      <td>[Well,, i, would, never, support, Hamas,, but,...</td>\n",
       "    </tr>\n",
       "    <tr>\n",
       "      <th>4</th>\n",
       "      <td>k70vay1</td>\n",
       "      <td>1</td>\n",
       "      <td>/u/TickeMeTendie. This is an automatic notice:...</td>\n",
       "      <td>IsraelPalestine</td>\n",
       "      <td>2023-10-29 23:55:42+00:00</td>\n",
       "      <td>[u, TickeMeTendie., This, is, an, automatic, n...</td>\n",
       "    </tr>\n",
       "  </tbody>\n",
       "</table>\n",
       "</div>"
      ],
      "text/plain": [
       "  comment_id  score                                          self_text  \\\n",
       "0    k70vrzb      1  Lol what kind of busted translator device you ...   \n",
       "1    k70vk4r      1  Translation:\\n\\nAmen. Kill jews and continue g...   \n",
       "2    k70vhew      1  Friendly fact reminder: Israel has been steali...   \n",
       "3    k70ve4h      1  Well, i would never support Hamas, but there a...   \n",
       "4    k70vay1      1  /u/TickeMeTendie. This is an automatic notice:...   \n",
       "\n",
       "         subreddit               created_time  \\\n",
       "0  IsraelPalestine  2023-10-29 23:59:03+00:00   \n",
       "1  IsraelPalestine  2023-10-29 23:57:29+00:00   \n",
       "2  IsraelPalestine  2023-10-29 23:56:58+00:00   \n",
       "3  IsraelPalestine  2023-10-29 23:56:18+00:00   \n",
       "4  IsraelPalestine  2023-10-29 23:55:42+00:00   \n",
       "\n",
       "                                          clean_text  \n",
       "0  [Lol, what, kind, of, busted, translator, devi...  \n",
       "1  [Translation:, Amen., Kill, jews, and, continu...  \n",
       "2  [Friendly, fact, reminder:, Israel, has, been,...  \n",
       "3  [Well,, i, would, never, support, Hamas,, but,...  \n",
       "4  [u, TickeMeTendie., This, is, an, automatic, n...  "
      ]
     },
     "execution_count": 14,
     "metadata": {},
     "output_type": "execute_result"
    }
   ],
   "source": [
    "#tokenization\n",
    "df['clean_text'] = df['clean_text'].apply(lambda x: str(x) if type(x) != str else x)\n",
    "df['clean_text'] = df['clean_text'].apply(lambda x: x.split())\n",
    "df.head()"
   ]
  },
  {
   "cell_type": "markdown",
   "id": "01802faf",
   "metadata": {
    "papermill": {
     "duration": 0.016452,
     "end_time": "2023-12-10T19:35:37.914604",
     "exception": false,
     "start_time": "2023-12-10T19:35:37.898152",
     "status": "completed"
    },
    "tags": []
   },
   "source": [
    "STEMMING AND LEMENTIZING"
   ]
  },
  {
   "cell_type": "code",
   "execution_count": 15,
   "id": "2d7497bb",
   "metadata": {
    "execution": {
     "iopub.execute_input": "2023-12-10T19:35:37.949655Z",
     "iopub.status.busy": "2023-12-10T19:35:37.949302Z",
     "iopub.status.idle": "2023-12-10T19:40:46.967311Z",
     "shell.execute_reply": "2023-12-10T19:40:46.966316Z"
    },
    "papermill": {
     "duration": 309.054879,
     "end_time": "2023-12-10T19:40:46.986446",
     "exception": false,
     "start_time": "2023-12-10T19:35:37.931567",
     "status": "completed"
    },
    "tags": []
   },
   "outputs": [
    {
     "data": {
      "text/html": [
       "<div>\n",
       "<style scoped>\n",
       "    .dataframe tbody tr th:only-of-type {\n",
       "        vertical-align: middle;\n",
       "    }\n",
       "\n",
       "    .dataframe tbody tr th {\n",
       "        vertical-align: top;\n",
       "    }\n",
       "\n",
       "    .dataframe thead th {\n",
       "        text-align: right;\n",
       "    }\n",
       "</style>\n",
       "<table border=\"1\" class=\"dataframe\">\n",
       "  <thead>\n",
       "    <tr style=\"text-align: right;\">\n",
       "      <th></th>\n",
       "      <th>comment_id</th>\n",
       "      <th>score</th>\n",
       "      <th>self_text</th>\n",
       "      <th>subreddit</th>\n",
       "      <th>created_time</th>\n",
       "      <th>clean_text</th>\n",
       "    </tr>\n",
       "  </thead>\n",
       "  <tbody>\n",
       "    <tr>\n",
       "      <th>0</th>\n",
       "      <td>k70vrzb</td>\n",
       "      <td>1</td>\n",
       "      <td>Lol what kind of busted translator device you ...</td>\n",
       "      <td>IsraelPalestine</td>\n",
       "      <td>2023-10-29 23:59:03+00:00</td>\n",
       "      <td>[lol, what, kind, of, bust, translat, devic, y...</td>\n",
       "    </tr>\n",
       "    <tr>\n",
       "      <th>1</th>\n",
       "      <td>k70vk4r</td>\n",
       "      <td>1</td>\n",
       "      <td>Translation:\\n\\nAmen. Kill jews and continue g...</td>\n",
       "      <td>IsraelPalestine</td>\n",
       "      <td>2023-10-29 23:57:29+00:00</td>\n",
       "      <td>[translation:, amen., kill, jew, and, continu,...</td>\n",
       "    </tr>\n",
       "    <tr>\n",
       "      <th>2</th>\n",
       "      <td>k70vhew</td>\n",
       "      <td>1</td>\n",
       "      <td>Friendly fact reminder: Israel has been steali...</td>\n",
       "      <td>IsraelPalestine</td>\n",
       "      <td>2023-10-29 23:56:58+00:00</td>\n",
       "      <td>[friend, fact, reminder:, israel, has, been, s...</td>\n",
       "    </tr>\n",
       "    <tr>\n",
       "      <th>3</th>\n",
       "      <td>k70ve4h</td>\n",
       "      <td>1</td>\n",
       "      <td>Well, i would never support Hamas, but there a...</td>\n",
       "      <td>IsraelPalestine</td>\n",
       "      <td>2023-10-29 23:56:18+00:00</td>\n",
       "      <td>[well,, i, would, never, support, hamas,, but,...</td>\n",
       "    </tr>\n",
       "    <tr>\n",
       "      <th>4</th>\n",
       "      <td>k70vay1</td>\n",
       "      <td>1</td>\n",
       "      <td>/u/TickeMeTendie. This is an automatic notice:...</td>\n",
       "      <td>IsraelPalestine</td>\n",
       "      <td>2023-10-29 23:55:42+00:00</td>\n",
       "      <td>[u, tickemetendie., this, is, an, automat, not...</td>\n",
       "    </tr>\n",
       "  </tbody>\n",
       "</table>\n",
       "</div>"
      ],
      "text/plain": [
       "  comment_id  score                                          self_text  \\\n",
       "0    k70vrzb      1  Lol what kind of busted translator device you ...   \n",
       "1    k70vk4r      1  Translation:\\n\\nAmen. Kill jews and continue g...   \n",
       "2    k70vhew      1  Friendly fact reminder: Israel has been steali...   \n",
       "3    k70ve4h      1  Well, i would never support Hamas, but there a...   \n",
       "4    k70vay1      1  /u/TickeMeTendie. This is an automatic notice:...   \n",
       "\n",
       "         subreddit               created_time  \\\n",
       "0  IsraelPalestine  2023-10-29 23:59:03+00:00   \n",
       "1  IsraelPalestine  2023-10-29 23:57:29+00:00   \n",
       "2  IsraelPalestine  2023-10-29 23:56:58+00:00   \n",
       "3  IsraelPalestine  2023-10-29 23:56:18+00:00   \n",
       "4  IsraelPalestine  2023-10-29 23:55:42+00:00   \n",
       "\n",
       "                                          clean_text  \n",
       "0  [lol, what, kind, of, bust, translat, devic, y...  \n",
       "1  [translation:, amen., kill, jew, and, continu,...  \n",
       "2  [friend, fact, reminder:, israel, has, been, s...  \n",
       "3  [well,, i, would, never, support, hamas,, but,...  \n",
       "4  [u, tickemetendie., this, is, an, automat, not...  "
      ]
     },
     "execution_count": 15,
     "metadata": {},
     "output_type": "execute_result"
    }
   ],
   "source": [
    "#stemmer\n",
    "from nltk.stem.snowball import SnowballStemmer\n",
    "stemmer = SnowballStemmer(\"english\")\n",
    "df['clean_text']= df['clean_text'].apply(lambda x: [stemmer.stem(i) for i in x])\n",
    "df.head()"
   ]
  },
  {
   "cell_type": "code",
   "execution_count": 16,
   "id": "2b8f203c",
   "metadata": {
    "execution": {
     "iopub.execute_input": "2023-12-10T19:40:47.021736Z",
     "iopub.status.busy": "2023-12-10T19:40:47.021390Z",
     "iopub.status.idle": "2023-12-10T19:40:47.251218Z",
     "shell.execute_reply": "2023-12-10T19:40:47.250287Z"
    },
    "papermill": {
     "duration": 0.249822,
     "end_time": "2023-12-10T19:40:47.253125",
     "exception": false,
     "start_time": "2023-12-10T19:40:47.003303",
     "status": "completed"
    },
    "tags": []
   },
   "outputs": [
    {
     "name": "stdout",
     "output_type": "stream",
     "text": [
      "[nltk_data] Downloading package stopwords to /usr/share/nltk_data...\n",
      "[nltk_data]   Package stopwords is already up-to-date!\n"
     ]
    },
    {
     "data": {
      "text/plain": [
       "True"
      ]
     },
     "execution_count": 16,
     "metadata": {},
     "output_type": "execute_result"
    }
   ],
   "source": [
    "import nltk\n",
    "nltk.download('stopwords')"
   ]
  },
  {
   "cell_type": "code",
   "execution_count": 17,
   "id": "655eaeea",
   "metadata": {
    "execution": {
     "iopub.execute_input": "2023-12-10T19:40:47.289051Z",
     "iopub.status.busy": "2023-12-10T19:40:47.288688Z",
     "iopub.status.idle": "2023-12-10T19:40:47.295794Z",
     "shell.execute_reply": "2023-12-10T19:40:47.295031Z"
    },
    "papermill": {
     "duration": 0.027206,
     "end_time": "2023-12-10T19:40:47.297712",
     "exception": false,
     "start_time": "2023-12-10T19:40:47.270506",
     "status": "completed"
    },
    "tags": []
   },
   "outputs": [],
   "source": [
    "from nltk.corpus import stopwords\n",
    "from nltk.tokenize import word_tokenize\n",
    "stopwords = nltk.corpus.stopwords.words('english')"
   ]
  },
  {
   "cell_type": "code",
   "execution_count": 18,
   "id": "b34dd298",
   "metadata": {
    "execution": {
     "iopub.execute_input": "2023-12-10T19:40:47.333350Z",
     "iopub.status.busy": "2023-12-10T19:40:47.332654Z",
     "iopub.status.idle": "2023-12-10T19:40:47.337421Z",
     "shell.execute_reply": "2023-12-10T19:40:47.336530Z"
    },
    "papermill": {
     "duration": 0.024779,
     "end_time": "2023-12-10T19:40:47.339399",
     "exception": false,
     "start_time": "2023-12-10T19:40:47.314620",
     "status": "completed"
    },
    "tags": []
   },
   "outputs": [],
   "source": [
    "newStopWords = ['u','go','got','via','or','ur','us','in','i','let','the','to','is','amp','make','one','day','days','get']\n",
    "stopwords.extend(newStopWords)"
   ]
  },
  {
   "cell_type": "code",
   "execution_count": 19,
   "id": "cdc9a740",
   "metadata": {
    "execution": {
     "iopub.execute_input": "2023-12-10T19:40:47.375069Z",
     "iopub.status.busy": "2023-12-10T19:40:47.374528Z",
     "iopub.status.idle": "2023-12-10T19:40:47.380400Z",
     "shell.execute_reply": "2023-12-10T19:40:47.379524Z"
    },
    "papermill": {
     "duration": 0.025963,
     "end_time": "2023-12-10T19:40:47.382482",
     "exception": false,
     "start_time": "2023-12-10T19:40:47.356519",
     "status": "completed"
    },
    "tags": []
   },
   "outputs": [],
   "source": [
    "import string\n",
    "def process(text):\n",
    "    # Check characters to see if they are in punctuation\n",
    "    nopunc = set(char for char in list(text) if char not in string.punctuation)\n",
    "    # Join the characters to form the string.\n",
    "    nopunc = \" \".join(nopunc)\n",
    "    # remove any stopwords if present\n",
    "    return [word for word in nopunc.lower().split() if word.lower() not in stopwords]"
   ]
  },
  {
   "cell_type": "code",
   "execution_count": 20,
   "id": "5c62617e",
   "metadata": {
    "execution": {
     "iopub.execute_input": "2023-12-10T19:40:47.417642Z",
     "iopub.status.busy": "2023-12-10T19:40:47.417354Z",
     "iopub.status.idle": "2023-12-10T19:41:29.581077Z",
     "shell.execute_reply": "2023-12-10T19:41:29.580138Z"
    },
    "papermill": {
     "duration": 42.200781,
     "end_time": "2023-12-10T19:41:29.600349",
     "exception": false,
     "start_time": "2023-12-10T19:40:47.399568",
     "status": "completed"
    },
    "tags": []
   },
   "outputs": [
    {
     "data": {
      "text/html": [
       "<div>\n",
       "<style scoped>\n",
       "    .dataframe tbody tr th:only-of-type {\n",
       "        vertical-align: middle;\n",
       "    }\n",
       "\n",
       "    .dataframe tbody tr th {\n",
       "        vertical-align: top;\n",
       "    }\n",
       "\n",
       "    .dataframe thead th {\n",
       "        text-align: right;\n",
       "    }\n",
       "</style>\n",
       "<table border=\"1\" class=\"dataframe\">\n",
       "  <thead>\n",
       "    <tr style=\"text-align: right;\">\n",
       "      <th></th>\n",
       "      <th>comment_id</th>\n",
       "      <th>score</th>\n",
       "      <th>self_text</th>\n",
       "      <th>subreddit</th>\n",
       "      <th>created_time</th>\n",
       "      <th>clean_text</th>\n",
       "    </tr>\n",
       "  </thead>\n",
       "  <tbody>\n",
       "    <tr>\n",
       "      <th>0</th>\n",
       "      <td>k70vrzb</td>\n",
       "      <td>1</td>\n",
       "      <td>Lol what kind of busted translator device you ...</td>\n",
       "      <td>IsraelPalestine</td>\n",
       "      <td>2023-10-29 23:59:03+00:00</td>\n",
       "      <td>[got., devic, translat, confid, 100, speak, lo...</td>\n",
       "    </tr>\n",
       "    <tr>\n",
       "      <th>1</th>\n",
       "      <td>k70vk4r</td>\n",
       "      <td>1</td>\n",
       "      <td>Translation:\\n\\nAmen. Kill jews and continue g...</td>\n",
       "      <td>IsraelPalestine</td>\n",
       "      <td>2023-10-29 23:57:29+00:00</td>\n",
       "      <td>[gazan, kill, 100, jew, percent., oppression!,...</td>\n",
       "    </tr>\n",
       "    <tr>\n",
       "      <th>2</th>\n",
       "      <td>k70vhew</td>\n",
       "      <td>1</td>\n",
       "      <td>Friendly fact reminder: Israel has been steali...</td>\n",
       "      <td>IsraelPalestine</td>\n",
       "      <td>2023-10-29 23:56:58+00:00</td>\n",
       "      <td>[like, reminder:, hama, israel, you., access, ...</td>\n",
       "    </tr>\n",
       "    <tr>\n",
       "      <th>3</th>\n",
       "      <td>k70ve4h</td>\n",
       "      <td>1</td>\n",
       "      <td>Well, i would never support Hamas, but there a...</td>\n",
       "      <td>IsraelPalestine</td>\n",
       "      <td>2023-10-29 23:56:18+00:00</td>\n",
       "      <td>[state, support, stop, orgin, israel, would, c...</td>\n",
       "    </tr>\n",
       "    <tr>\n",
       "      <th>4</th>\n",
       "      <td>k70vay1</td>\n",
       "      <td>1</td>\n",
       "      <td>/u/TickeMeTendie. This is an automatic notice:...</td>\n",
       "      <td>IsraelPalestine</td>\n",
       "      <td>2023-10-29 23:55:42+00:00</td>\n",
       "      <td>[historians., r, concerns.*, simpl, bot, meani...</td>\n",
       "    </tr>\n",
       "  </tbody>\n",
       "</table>\n",
       "</div>"
      ],
      "text/plain": [
       "  comment_id  score                                          self_text  \\\n",
       "0    k70vrzb      1  Lol what kind of busted translator device you ...   \n",
       "1    k70vk4r      1  Translation:\\n\\nAmen. Kill jews and continue g...   \n",
       "2    k70vhew      1  Friendly fact reminder: Israel has been steali...   \n",
       "3    k70ve4h      1  Well, i would never support Hamas, but there a...   \n",
       "4    k70vay1      1  /u/TickeMeTendie. This is an automatic notice:...   \n",
       "\n",
       "         subreddit               created_time  \\\n",
       "0  IsraelPalestine  2023-10-29 23:59:03+00:00   \n",
       "1  IsraelPalestine  2023-10-29 23:57:29+00:00   \n",
       "2  IsraelPalestine  2023-10-29 23:56:58+00:00   \n",
       "3  IsraelPalestine  2023-10-29 23:56:18+00:00   \n",
       "4  IsraelPalestine  2023-10-29 23:55:42+00:00   \n",
       "\n",
       "                                          clean_text  \n",
       "0  [got., devic, translat, confid, 100, speak, lo...  \n",
       "1  [gazan, kill, 100, jew, percent., oppression!,...  \n",
       "2  [like, reminder:, hama, israel, you., access, ...  \n",
       "3  [state, support, stop, orgin, israel, would, c...  \n",
       "4  [historians., r, concerns.*, simpl, bot, meani...  "
      ]
     },
     "execution_count": 20,
     "metadata": {},
     "output_type": "execute_result"
    }
   ],
   "source": [
    "df['clean_text'] = df['clean_text'].apply(process)\n",
    "df.head()"
   ]
  },
  {
   "cell_type": "code",
   "execution_count": 21,
   "id": "aec9715d",
   "metadata": {
    "execution": {
     "iopub.execute_input": "2023-12-10T19:41:29.636203Z",
     "iopub.status.busy": "2023-12-10T19:41:29.635815Z",
     "iopub.status.idle": "2023-12-10T19:41:29.641406Z",
     "shell.execute_reply": "2023-12-10T19:41:29.640558Z"
    },
    "papermill": {
     "duration": 0.025943,
     "end_time": "2023-12-10T19:41:29.643370",
     "exception": false,
     "start_time": "2023-12-10T19:41:29.617427",
     "status": "completed"
    },
    "tags": []
   },
   "outputs": [
    {
     "name": "stdout",
     "output_type": "stream",
     "text": [
      "['got.', 'devic', 'translat', 'confid', '100', 'speak', 'lol', 'onli', 'kind', 'percent.', 'bust', 'hasbara?', 'doe']\n",
      "['gazan', 'kill', '100', 'jew', 'percent.', 'oppression!', 'confid', 'continu', 'amen.', 'translation:']\n",
      "['like', 'reminder:', 'hama', 'israel', 'you.', 'access', 'confid', 'land,', 'bad,', '100', '50', 'friend', 'kidnap', 'bomb', 'somehow', 'palestinian', 'palestin', 'peopl', 'percent.', 'food', 'control', 'idf', 'think', 'civilian', 'commit', 'steal', 'blame', 'genocid', 'civilians,', 'news', 'years.', 'fact', 'water', 'place', 'bad', 'palestine.']\n",
      "['state', 'support', 'stop', 'orgin', 'israel', 'would', 'confid', 'kill', '100', 'weaponary.', 'hamas,', 'bank', 'percent.', 'never', 'isra', 'well,', 'action', 'arab', 'west', 'atom', 'it:', 'use', 'could']\n",
      "['historians.', 'r', 'concerns.*', 'simpl', 'bot', 'meaning', 'su', 'notice:', '*i', '[rule', 'eddit](', 'accept', 'must', 'messag', '[contact', 'automat', 'take', 'word', 'tickemetendie.', 'flag', '6](https:', 'bot,', 'inform', 'cannot', 'automatically.', 'compliance.', 'allow', 'see', 'action', 'israelpalestine)', 'www.reddit.com', 'nazi', 'usage.', 'casual', 'perform', 'confid', '100', 'detailed-rules#wiki_6._nazi_comparisons)', 'exempt', 'review', 'detection,', 'pleas', '?to=', 'question', 'distinguish', 'moder', 'histor', 'unaccept', 'compos', 'comment', 'fact', 'details.', 'therefor', 'ani', 'inflammatori', 'mainstream', 'confirm', 'moment', 'wiki', 'base', 'analog', 'percent.', 'rule', 'israelpalestin', 'use', 'allowed.']\n",
      "['absolut', 'captagon', 'nypost.com', 'hama', 'drug', 'hamas-militants-high-poor-mans-cocaine-oct-7-attacks-report-2023-10?amp', 'multipl', 'take', 'confid', '10', 'www.businessinsider.com', '100', 'took', '2023', '23', 'hamas-terrorists-were-high-on-poor-mans-cocaine-report', 'evid', 'pervitin,', 'similar', 'percent.', 'report', 'outlets.', 'nazi', 'https:']\n",
      "['hama', 'ani', 'evidance.', 'avtual', 'confid', 'look', '100', 'becaus', 'give', 'york', 'percent.', 'times?', 'said', 'new', 'link', 'lie', 'didnt']\n",
      "['messag', 'gaza', 'israel', 'ceased.', 'ing', 'confid', 'anyth', 'behavior', '100', 'chang', 'local', 'ago.', 'deni', 'does?', 'chose', 'does.', 'subject', 'distraction?', 'deliv', 'percent.', 'said.', 'shield', 'complain', 'said', 'year', 'use', 'point', \"you'r\", 'human', 'fact.']\n",
      "['like', '2', 'hostages,', 'everi', 'equivoc', 'you,', 'dies,', '...', 'whi', 'spare', 'gun', 'gaza.', 'hamas,', 'bank', \"they'd\", 'murder', 'complain', 'occur', 'amount', 'robbery,', 'sinc', 'safeti', 'responsibility,', '3', 'hama', 'sudden', 'take', 'die', 'kid', 'gaza,', 'everyth', 'perpetr', 'ok', 'bullet,', 'shot', 'to,', 'million', 'weapons,', 'guard,', \"you'r\", 'even', '7th.', 'respons', 'stop', 'hands.', 'unit', 'charg', 'confid', '100', 'becaus', 'gonna', 'exactly,', 'act', 'death', 'battl', 'put', '1', '7th', 'releas', 'yes,', '7th,', 'commit', 'happen', 'child', 'surrend', 'evil', 'result', 'state', 'ani', 'gaza', 'live', 'crime', 'octob', 'attacked,', 'robbery.', 'person', 'lost', 'lay', 'moment', 'bomb,', 'part', 'peopl', 'percent.', 'judg', 'isra', 'invok', 'attack', 'innoc', 'fault.', 'want', 'singl', 'jeopardi', 'capslock', 'secur', 'could', 'israel.', 'gt']\n",
      "['ethnic', 'best', 'right', 'support', 'disgust', 'would', 'still', 'confid', 'knew', 'gazan', 'scenario', '100', 'becaus', 'firstly,', 'without', 'possibl', 'unjustifi', 'confus', '99%', 'palestinian', 'hamas,', 'bank', 'allow', 'peac', 'percent.', '\"gazans\"', 'isra', 'attack', 'cleansing.', 'think', 'way,', '\"palestinians\",', 'west', 'particular', 'doe', 'even', 'secondly,', 'sinc', 'now.', 'bad']\n"
     ]
    }
   ],
   "source": [
    "#Visualizing the tokens\n",
    "for i in range(10):\n",
    "    print(df.clean_text[i])"
   ]
  },
  {
   "cell_type": "code",
   "execution_count": 22,
   "id": "1217244a",
   "metadata": {
    "execution": {
     "iopub.execute_input": "2023-12-10T19:41:29.679323Z",
     "iopub.status.busy": "2023-12-10T19:41:29.678974Z",
     "iopub.status.idle": "2023-12-10T19:41:29.920649Z",
     "shell.execute_reply": "2023-12-10T19:41:29.919547Z"
    },
    "papermill": {
     "duration": 0.262001,
     "end_time": "2023-12-10T19:41:29.922647",
     "exception": false,
     "start_time": "2023-12-10T19:41:29.660646",
     "status": "completed"
    },
    "tags": []
   },
   "outputs": [
    {
     "name": "stdout",
     "output_type": "stream",
     "text": [
      "<class 'pandas.core.frame.DataFrame'>\n",
      "RangeIndex: 436725 entries, 0 to 436724\n",
      "Data columns (total 6 columns):\n",
      " #   Column        Non-Null Count   Dtype \n",
      "---  ------        --------------   ----- \n",
      " 0   comment_id    436725 non-null  object\n",
      " 1   score         436725 non-null  int64 \n",
      " 2   self_text     436725 non-null  object\n",
      " 3   subreddit     436725 non-null  object\n",
      " 4   created_time  436725 non-null  object\n",
      " 5   clean_text    436725 non-null  object\n",
      "dtypes: int64(1), object(5)\n",
      "memory usage: 20.0+ MB\n"
     ]
    }
   ],
   "source": [
    "df.info()"
   ]
  },
  {
   "cell_type": "markdown",
   "id": "893d776a",
   "metadata": {
    "papermill": {
     "duration": 0.016962,
     "end_time": "2023-12-10T19:41:29.957045",
     "exception": false,
     "start_time": "2023-12-10T19:41:29.940083",
     "status": "completed"
    },
    "tags": []
   },
   "source": [
    "Sentiment Analysis using VADER"
   ]
  },
  {
   "cell_type": "code",
   "execution_count": 23,
   "id": "976b5b61",
   "metadata": {
    "execution": {
     "iopub.execute_input": "2023-12-10T19:41:29.992664Z",
     "iopub.status.busy": "2023-12-10T19:41:29.992343Z",
     "iopub.status.idle": "2023-12-10T19:52:13.335259Z",
     "shell.execute_reply": "2023-12-10T19:52:13.334414Z"
    },
    "papermill": {
     "duration": 643.363814,
     "end_time": "2023-12-10T19:52:13.337801",
     "exception": false,
     "start_time": "2023-12-10T19:41:29.973987",
     "status": "completed"
    },
    "tags": []
   },
   "outputs": [],
   "source": [
    "from nltk.sentiment import SentimentIntensityAnalyzer\n",
    "import pandas as pd\n",
    "\n",
    "# Assuming df['clean_text'] is a list of strings\n",
    "df['clean_text'] = df['clean_text'].apply(lambda x: ' '.join(map(str, x)) if isinstance(x, list) else x)\n",
    "\n",
    "# Initialize the Sentiment Intensity Analyzer\n",
    "analyzer = SentimentIntensityAnalyzer()\n",
    "\n",
    "# Declare variables for scores\n",
    "scores = {\n",
    "    \"Compound\": [],\n",
    "    \"Positive\": [],\n",
    "    \"Negative\": [],\n",
    "    \"Neutral\": []\n",
    "}\n",
    "\n",
    "# Generate sentiment scores for Reddit comments\n",
    "for comment in df['clean_text']:\n",
    "    compound = analyzer.polarity_scores(comment)[\"compound\"]\n",
    "    pos = analyzer.polarity_scores(comment)[\"pos\"]\n",
    "    neu = analyzer.polarity_scores(comment)[\"neu\"]\n",
    "    neg = analyzer.polarity_scores(comment)[\"neg\"]\n",
    "\n",
    "    scores[\"Compound\"].append(compound)\n",
    "    scores[\"Positive\"].append(pos)\n",
    "    scores[\"Negative\"].append(neg)\n",
    "    scores[\"Neutral\"].append(neu)\n",
    "\n",
    "# Create a new DataFrame for sentiment scores\n",
    "sentiments_score = pd.DataFrame(scores)\n",
    "\n",
    "# Join the sentiment scores DataFrame with the original DataFrame\n",
    "df = pd.concat([df, sentiments_score], axis=1)"
   ]
  },
  {
   "cell_type": "code",
   "execution_count": 24,
   "id": "3d7db1a1",
   "metadata": {
    "execution": {
     "iopub.execute_input": "2023-12-10T19:52:13.374470Z",
     "iopub.status.busy": "2023-12-10T19:52:13.374113Z",
     "iopub.status.idle": "2023-12-10T19:52:13.389785Z",
     "shell.execute_reply": "2023-12-10T19:52:13.388827Z"
    },
    "papermill": {
     "duration": 0.036098,
     "end_time": "2023-12-10T19:52:13.391799",
     "exception": false,
     "start_time": "2023-12-10T19:52:13.355701",
     "status": "completed"
    },
    "tags": []
   },
   "outputs": [
    {
     "data": {
      "text/html": [
       "<div>\n",
       "<style scoped>\n",
       "    .dataframe tbody tr th:only-of-type {\n",
       "        vertical-align: middle;\n",
       "    }\n",
       "\n",
       "    .dataframe tbody tr th {\n",
       "        vertical-align: top;\n",
       "    }\n",
       "\n",
       "    .dataframe thead th {\n",
       "        text-align: right;\n",
       "    }\n",
       "</style>\n",
       "<table border=\"1\" class=\"dataframe\">\n",
       "  <thead>\n",
       "    <tr style=\"text-align: right;\">\n",
       "      <th></th>\n",
       "      <th>comment_id</th>\n",
       "      <th>score</th>\n",
       "      <th>self_text</th>\n",
       "      <th>subreddit</th>\n",
       "      <th>created_time</th>\n",
       "      <th>clean_text</th>\n",
       "      <th>Compound</th>\n",
       "      <th>Positive</th>\n",
       "      <th>Negative</th>\n",
       "      <th>Neutral</th>\n",
       "    </tr>\n",
       "  </thead>\n",
       "  <tbody>\n",
       "    <tr>\n",
       "      <th>0</th>\n",
       "      <td>k70vrzb</td>\n",
       "      <td>1</td>\n",
       "      <td>Lol what kind of busted translator device you ...</td>\n",
       "      <td>IsraelPalestine</td>\n",
       "      <td>2023-10-29 23:59:03+00:00</td>\n",
       "      <td>got. devic translat confid 100 speak lol onli ...</td>\n",
       "      <td>0.7351</td>\n",
       "      <td>0.360</td>\n",
       "      <td>0.000</td>\n",
       "      <td>0.640</td>\n",
       "    </tr>\n",
       "    <tr>\n",
       "      <th>1</th>\n",
       "      <td>k70vk4r</td>\n",
       "      <td>1</td>\n",
       "      <td>Translation:\\n\\nAmen. Kill jews and continue g...</td>\n",
       "      <td>IsraelPalestine</td>\n",
       "      <td>2023-10-29 23:57:29+00:00</td>\n",
       "      <td>gazan kill 100 jew percent. oppression! confid...</td>\n",
       "      <td>-0.7177</td>\n",
       "      <td>0.000</td>\n",
       "      <td>0.357</td>\n",
       "      <td>0.643</td>\n",
       "    </tr>\n",
       "    <tr>\n",
       "      <th>2</th>\n",
       "      <td>k70vhew</td>\n",
       "      <td>1</td>\n",
       "      <td>Friendly fact reminder: Israel has been steali...</td>\n",
       "      <td>IsraelPalestine</td>\n",
       "      <td>2023-10-29 23:56:58+00:00</td>\n",
       "      <td>like reminder: hama israel you. access confid ...</td>\n",
       "      <td>-0.8360</td>\n",
       "      <td>0.153</td>\n",
       "      <td>0.306</td>\n",
       "      <td>0.542</td>\n",
       "    </tr>\n",
       "    <tr>\n",
       "      <th>3</th>\n",
       "      <td>k70ve4h</td>\n",
       "      <td>1</td>\n",
       "      <td>Well, i would never support Hamas, but there a...</td>\n",
       "      <td>IsraelPalestine</td>\n",
       "      <td>2023-10-29 23:56:18+00:00</td>\n",
       "      <td>state support stop orgin israel would confid k...</td>\n",
       "      <td>-0.7196</td>\n",
       "      <td>0.089</td>\n",
       "      <td>0.287</td>\n",
       "      <td>0.625</td>\n",
       "    </tr>\n",
       "    <tr>\n",
       "      <th>4</th>\n",
       "      <td>k70vay1</td>\n",
       "      <td>1</td>\n",
       "      <td>/u/TickeMeTendie. This is an automatic notice:...</td>\n",
       "      <td>IsraelPalestine</td>\n",
       "      <td>2023-10-29 23:55:42+00:00</td>\n",
       "      <td>historians. r concerns.* simpl bot meaning su ...</td>\n",
       "      <td>0.4826</td>\n",
       "      <td>0.085</td>\n",
       "      <td>0.024</td>\n",
       "      <td>0.891</td>\n",
       "    </tr>\n",
       "  </tbody>\n",
       "</table>\n",
       "</div>"
      ],
      "text/plain": [
       "  comment_id  score                                          self_text  \\\n",
       "0    k70vrzb      1  Lol what kind of busted translator device you ...   \n",
       "1    k70vk4r      1  Translation:\\n\\nAmen. Kill jews and continue g...   \n",
       "2    k70vhew      1  Friendly fact reminder: Israel has been steali...   \n",
       "3    k70ve4h      1  Well, i would never support Hamas, but there a...   \n",
       "4    k70vay1      1  /u/TickeMeTendie. This is an automatic notice:...   \n",
       "\n",
       "         subreddit               created_time  \\\n",
       "0  IsraelPalestine  2023-10-29 23:59:03+00:00   \n",
       "1  IsraelPalestine  2023-10-29 23:57:29+00:00   \n",
       "2  IsraelPalestine  2023-10-29 23:56:58+00:00   \n",
       "3  IsraelPalestine  2023-10-29 23:56:18+00:00   \n",
       "4  IsraelPalestine  2023-10-29 23:55:42+00:00   \n",
       "\n",
       "                                          clean_text  Compound  Positive  \\\n",
       "0  got. devic translat confid 100 speak lol onli ...    0.7351     0.360   \n",
       "1  gazan kill 100 jew percent. oppression! confid...   -0.7177     0.000   \n",
       "2  like reminder: hama israel you. access confid ...   -0.8360     0.153   \n",
       "3  state support stop orgin israel would confid k...   -0.7196     0.089   \n",
       "4  historians. r concerns.* simpl bot meaning su ...    0.4826     0.085   \n",
       "\n",
       "   Negative  Neutral  \n",
       "0     0.000    0.640  \n",
       "1     0.357    0.643  \n",
       "2     0.306    0.542  \n",
       "3     0.287    0.625  \n",
       "4     0.024    0.891  "
      ]
     },
     "execution_count": 24,
     "metadata": {},
     "output_type": "execute_result"
    }
   ],
   "source": [
    "df.head()"
   ]
  },
  {
   "cell_type": "code",
   "execution_count": 25,
   "id": "3ad6d678",
   "metadata": {
    "execution": {
     "iopub.execute_input": "2023-12-10T19:52:13.430120Z",
     "iopub.status.busy": "2023-12-10T19:52:13.429557Z",
     "iopub.status.idle": "2023-12-10T19:52:13.524218Z",
     "shell.execute_reply": "2023-12-10T19:52:13.523147Z"
    },
    "papermill": {
     "duration": 0.11558,
     "end_time": "2023-12-10T19:52:13.526437",
     "exception": false,
     "start_time": "2023-12-10T19:52:13.410857",
     "status": "completed"
    },
    "tags": []
   },
   "outputs": [
    {
     "data": {
      "text/html": [
       "<div>\n",
       "<style scoped>\n",
       "    .dataframe tbody tr th:only-of-type {\n",
       "        vertical-align: middle;\n",
       "    }\n",
       "\n",
       "    .dataframe tbody tr th {\n",
       "        vertical-align: top;\n",
       "    }\n",
       "\n",
       "    .dataframe thead th {\n",
       "        text-align: right;\n",
       "    }\n",
       "</style>\n",
       "<table border=\"1\" class=\"dataframe\">\n",
       "  <thead>\n",
       "    <tr style=\"text-align: right;\">\n",
       "      <th></th>\n",
       "      <th>comment_id</th>\n",
       "      <th>score</th>\n",
       "      <th>self_text</th>\n",
       "      <th>subreddit</th>\n",
       "      <th>created_time</th>\n",
       "      <th>clean_text</th>\n",
       "      <th>Compound</th>\n",
       "      <th>Positive</th>\n",
       "      <th>Negative</th>\n",
       "      <th>Neutral</th>\n",
       "      <th>Category</th>\n",
       "    </tr>\n",
       "  </thead>\n",
       "  <tbody>\n",
       "    <tr>\n",
       "      <th>0</th>\n",
       "      <td>k70vrzb</td>\n",
       "      <td>1</td>\n",
       "      <td>Lol what kind of busted translator device you ...</td>\n",
       "      <td>IsraelPalestine</td>\n",
       "      <td>2023-10-29 23:59:03+00:00</td>\n",
       "      <td>got. devic translat confid 100 speak lol onli ...</td>\n",
       "      <td>0.7351</td>\n",
       "      <td>0.360</td>\n",
       "      <td>0.000</td>\n",
       "      <td>0.640</td>\n",
       "      <td>Positive</td>\n",
       "    </tr>\n",
       "    <tr>\n",
       "      <th>1</th>\n",
       "      <td>k70vk4r</td>\n",
       "      <td>1</td>\n",
       "      <td>Translation:\\n\\nAmen. Kill jews and continue g...</td>\n",
       "      <td>IsraelPalestine</td>\n",
       "      <td>2023-10-29 23:57:29+00:00</td>\n",
       "      <td>gazan kill 100 jew percent. oppression! confid...</td>\n",
       "      <td>-0.7177</td>\n",
       "      <td>0.000</td>\n",
       "      <td>0.357</td>\n",
       "      <td>0.643</td>\n",
       "      <td>Negative</td>\n",
       "    </tr>\n",
       "    <tr>\n",
       "      <th>2</th>\n",
       "      <td>k70vhew</td>\n",
       "      <td>1</td>\n",
       "      <td>Friendly fact reminder: Israel has been steali...</td>\n",
       "      <td>IsraelPalestine</td>\n",
       "      <td>2023-10-29 23:56:58+00:00</td>\n",
       "      <td>like reminder: hama israel you. access confid ...</td>\n",
       "      <td>-0.8360</td>\n",
       "      <td>0.153</td>\n",
       "      <td>0.306</td>\n",
       "      <td>0.542</td>\n",
       "      <td>Negative</td>\n",
       "    </tr>\n",
       "    <tr>\n",
       "      <th>3</th>\n",
       "      <td>k70ve4h</td>\n",
       "      <td>1</td>\n",
       "      <td>Well, i would never support Hamas, but there a...</td>\n",
       "      <td>IsraelPalestine</td>\n",
       "      <td>2023-10-29 23:56:18+00:00</td>\n",
       "      <td>state support stop orgin israel would confid k...</td>\n",
       "      <td>-0.7196</td>\n",
       "      <td>0.089</td>\n",
       "      <td>0.287</td>\n",
       "      <td>0.625</td>\n",
       "      <td>Negative</td>\n",
       "    </tr>\n",
       "    <tr>\n",
       "      <th>4</th>\n",
       "      <td>k70vay1</td>\n",
       "      <td>1</td>\n",
       "      <td>/u/TickeMeTendie. This is an automatic notice:...</td>\n",
       "      <td>IsraelPalestine</td>\n",
       "      <td>2023-10-29 23:55:42+00:00</td>\n",
       "      <td>historians. r concerns.* simpl bot meaning su ...</td>\n",
       "      <td>0.4826</td>\n",
       "      <td>0.085</td>\n",
       "      <td>0.024</td>\n",
       "      <td>0.891</td>\n",
       "      <td>Neutral</td>\n",
       "    </tr>\n",
       "  </tbody>\n",
       "</table>\n",
       "</div>"
      ],
      "text/plain": [
       "  comment_id  score                                          self_text  \\\n",
       "0    k70vrzb      1  Lol what kind of busted translator device you ...   \n",
       "1    k70vk4r      1  Translation:\\n\\nAmen. Kill jews and continue g...   \n",
       "2    k70vhew      1  Friendly fact reminder: Israel has been steali...   \n",
       "3    k70ve4h      1  Well, i would never support Hamas, but there a...   \n",
       "4    k70vay1      1  /u/TickeMeTendie. This is an automatic notice:...   \n",
       "\n",
       "         subreddit               created_time  \\\n",
       "0  IsraelPalestine  2023-10-29 23:59:03+00:00   \n",
       "1  IsraelPalestine  2023-10-29 23:57:29+00:00   \n",
       "2  IsraelPalestine  2023-10-29 23:56:58+00:00   \n",
       "3  IsraelPalestine  2023-10-29 23:56:18+00:00   \n",
       "4  IsraelPalestine  2023-10-29 23:55:42+00:00   \n",
       "\n",
       "                                          clean_text  Compound  Positive  \\\n",
       "0  got. devic translat confid 100 speak lol onli ...    0.7351     0.360   \n",
       "1  gazan kill 100 jew percent. oppression! confid...   -0.7177     0.000   \n",
       "2  like reminder: hama israel you. access confid ...   -0.8360     0.153   \n",
       "3  state support stop orgin israel would confid k...   -0.7196     0.089   \n",
       "4  historians. r concerns.* simpl bot meaning su ...    0.4826     0.085   \n",
       "\n",
       "   Negative  Neutral  Category  \n",
       "0     0.000    0.640  Positive  \n",
       "1     0.357    0.643  Negative  \n",
       "2     0.306    0.542  Negative  \n",
       "3     0.287    0.625  Negative  \n",
       "4     0.024    0.891   Neutral  "
      ]
     },
     "execution_count": 25,
     "metadata": {},
     "output_type": "execute_result"
    }
   ],
   "source": [
    "# Define conditions for sentiment categories based on 'Compound' scores\n",
    "# If Compound score is <= -0.5, classify as 'Negative'\n",
    "# If Compound score is > -0.5 and < 0.5, classify as 'Neutral'\n",
    "# If Compound score is >= 0.5, classify as 'Positive'\n",
    "conditions = [\n",
    "    (df['Compound'] <= -0.5),\n",
    "    (df['Compound'] > -0.5) & (df['Compound'] < 0.5),\n",
    "    (df['Compound'] > 0.5)\n",
    "]\n",
    "\n",
    "# Define corresponding values for each condition\n",
    "values = ['Negative', 'Neutral', 'Positive']\n",
    "\n",
    "# Create a new column 'Category' using np.select to assign values based on the conditions\n",
    "df['Category'] = np.select(conditions, values)\n",
    "\n",
    "df.head()"
   ]
  },
  {
   "cell_type": "markdown",
   "id": "24c64e75",
   "metadata": {
    "papermill": {
     "duration": 0.019149,
     "end_time": "2023-12-10T19:52:13.563706",
     "exception": false,
     "start_time": "2023-12-10T19:52:13.544557",
     "status": "completed"
    },
    "tags": []
   },
   "source": [
    "EDA"
   ]
  },
  {
   "cell_type": "code",
   "execution_count": 26,
   "id": "8abcbfbc",
   "metadata": {
    "execution": {
     "iopub.execute_input": "2023-12-10T19:52:13.601769Z",
     "iopub.status.busy": "2023-12-10T19:52:13.600929Z",
     "iopub.status.idle": "2023-12-10T19:52:13.689632Z",
     "shell.execute_reply": "2023-12-10T19:52:13.688678Z"
    },
    "papermill": {
     "duration": 0.109853,
     "end_time": "2023-12-10T19:52:13.691736",
     "exception": false,
     "start_time": "2023-12-10T19:52:13.581883",
     "status": "completed"
    },
    "tags": []
   },
   "outputs": [
    {
     "name": "stdout",
     "output_type": "stream",
     "text": [
      "          Counts  Percentage\n",
      "Category                    \n",
      "Negative  120859   27.673937\n",
      "Neutral   261709   59.925353\n",
      "Positive   54146   12.398191\n"
     ]
    }
   ],
   "source": [
    "# Group the DataFrame by 'Category' and count the occurrences of each category\n",
    "category_counts = df.groupby(['Category'])['Category'].count()\n",
    "\n",
    "# Create a DataFrame with counts and rename the column to 'Counts'\n",
    "counts_df = pd.DataFrame(category_counts).rename(columns={\"Category\": \"Counts\"})\n",
    "\n",
    "# Calculate the percentage for each category and add it as a new column 'Percentage'\n",
    "counts_df['Percentage'] = (counts_df['Counts'] / counts_df['Counts'].sum()) * 100\n",
    "\n",
    "counts_df = counts_df.drop(index='0')\n",
    "\n",
    "# Print or return the summary DataFrame\n",
    "print(counts_df)"
   ]
  },
  {
   "cell_type": "markdown",
   "id": "c8861286",
   "metadata": {
    "papermill": {
     "duration": 0.018345,
     "end_time": "2023-12-10T19:52:13.728541",
     "exception": false,
     "start_time": "2023-12-10T19:52:13.710196",
     "status": "completed"
    },
    "tags": []
   },
   "source": [
    "Pie Chart of Sentiment Counts"
   ]
  },
  {
   "cell_type": "code",
   "execution_count": 27,
   "id": "4a469e83",
   "metadata": {
    "execution": {
     "iopub.execute_input": "2023-12-10T19:52:13.767203Z",
     "iopub.status.busy": "2023-12-10T19:52:13.766469Z",
     "iopub.status.idle": "2023-12-10T19:52:15.917131Z",
     "shell.execute_reply": "2023-12-10T19:52:15.916226Z"
    },
    "papermill": {
     "duration": 2.173173,
     "end_time": "2023-12-10T19:52:15.919945",
     "exception": false,
     "start_time": "2023-12-10T19:52:13.746772",
     "status": "completed"
    },
    "tags": []
   },
   "outputs": [
    {
     "data": {
      "text/html": [
       "        <script type=\"text/javascript\">\n",
       "        window.PlotlyConfig = {MathJaxConfig: 'local'};\n",
       "        if (window.MathJax && window.MathJax.Hub && window.MathJax.Hub.Config) {window.MathJax.Hub.Config({SVG: {font: \"STIX-Web\"}});}\n",
       "        if (typeof require !== 'undefined') {\n",
       "        require.undef(\"plotly\");\n",
       "        requirejs.config({\n",
       "            paths: {\n",
       "                'plotly': ['https://cdn.plot.ly/plotly-2.25.2.min']\n",
       "            }\n",
       "        });\n",
       "        require(['plotly'], function(Plotly) {\n",
       "            window._Plotly = Plotly;\n",
       "        });\n",
       "        }\n",
       "        </script>\n",
       "        "
      ]
     },
     "metadata": {},
     "output_type": "display_data"
    },
    {
     "data": {
      "text/html": [
       "<div>                            <div id=\"64097734-9918-4efa-a007-f1845305aa3b\" class=\"plotly-graph-div\" style=\"height:525px; width:100%;\"></div>            <script type=\"text/javascript\">                require([\"plotly\"], function(Plotly) {                    window.PLOTLYENV=window.PLOTLYENV || {};                                    if (document.getElementById(\"64097734-9918-4efa-a007-f1845305aa3b\")) {                    Plotly.newPlot(                        \"64097734-9918-4efa-a007-f1845305aa3b\",                        [{\"domain\":{\"x\":[0.0,1.0],\"y\":[0.0,1.0]},\"hole\":0.3,\"hovertemplate\":\"Sentiment Category=%{label}\\u003cbr\\u003eCount=%{value}\\u003cextra\\u003e\\u003c\\u002fextra\\u003e\",\"labels\":[\"Negative\",\"Neutral\",\"Positive\"],\"legendgroup\":\"\",\"name\":\"\",\"showlegend\":true,\"values\":[120859,261709,54146],\"type\":\"pie\"}],                        {\"template\":{\"data\":{\"histogram2dcontour\":[{\"type\":\"histogram2dcontour\",\"colorbar\":{\"outlinewidth\":0,\"ticks\":\"\"},\"colorscale\":[[0.0,\"#0d0887\"],[0.1111111111111111,\"#46039f\"],[0.2222222222222222,\"#7201a8\"],[0.3333333333333333,\"#9c179e\"],[0.4444444444444444,\"#bd3786\"],[0.5555555555555556,\"#d8576b\"],[0.6666666666666666,\"#ed7953\"],[0.7777777777777778,\"#fb9f3a\"],[0.8888888888888888,\"#fdca26\"],[1.0,\"#f0f921\"]]}],\"choropleth\":[{\"type\":\"choropleth\",\"colorbar\":{\"outlinewidth\":0,\"ticks\":\"\"}}],\"histogram2d\":[{\"type\":\"histogram2d\",\"colorbar\":{\"outlinewidth\":0,\"ticks\":\"\"},\"colorscale\":[[0.0,\"#0d0887\"],[0.1111111111111111,\"#46039f\"],[0.2222222222222222,\"#7201a8\"],[0.3333333333333333,\"#9c179e\"],[0.4444444444444444,\"#bd3786\"],[0.5555555555555556,\"#d8576b\"],[0.6666666666666666,\"#ed7953\"],[0.7777777777777778,\"#fb9f3a\"],[0.8888888888888888,\"#fdca26\"],[1.0,\"#f0f921\"]]}],\"heatmap\":[{\"type\":\"heatmap\",\"colorbar\":{\"outlinewidth\":0,\"ticks\":\"\"},\"colorscale\":[[0.0,\"#0d0887\"],[0.1111111111111111,\"#46039f\"],[0.2222222222222222,\"#7201a8\"],[0.3333333333333333,\"#9c179e\"],[0.4444444444444444,\"#bd3786\"],[0.5555555555555556,\"#d8576b\"],[0.6666666666666666,\"#ed7953\"],[0.7777777777777778,\"#fb9f3a\"],[0.8888888888888888,\"#fdca26\"],[1.0,\"#f0f921\"]]}],\"heatmapgl\":[{\"type\":\"heatmapgl\",\"colorbar\":{\"outlinewidth\":0,\"ticks\":\"\"},\"colorscale\":[[0.0,\"#0d0887\"],[0.1111111111111111,\"#46039f\"],[0.2222222222222222,\"#7201a8\"],[0.3333333333333333,\"#9c179e\"],[0.4444444444444444,\"#bd3786\"],[0.5555555555555556,\"#d8576b\"],[0.6666666666666666,\"#ed7953\"],[0.7777777777777778,\"#fb9f3a\"],[0.8888888888888888,\"#fdca26\"],[1.0,\"#f0f921\"]]}],\"contourcarpet\":[{\"type\":\"contourcarpet\",\"colorbar\":{\"outlinewidth\":0,\"ticks\":\"\"}}],\"contour\":[{\"type\":\"contour\",\"colorbar\":{\"outlinewidth\":0,\"ticks\":\"\"},\"colorscale\":[[0.0,\"#0d0887\"],[0.1111111111111111,\"#46039f\"],[0.2222222222222222,\"#7201a8\"],[0.3333333333333333,\"#9c179e\"],[0.4444444444444444,\"#bd3786\"],[0.5555555555555556,\"#d8576b\"],[0.6666666666666666,\"#ed7953\"],[0.7777777777777778,\"#fb9f3a\"],[0.8888888888888888,\"#fdca26\"],[1.0,\"#f0f921\"]]}],\"surface\":[{\"type\":\"surface\",\"colorbar\":{\"outlinewidth\":0,\"ticks\":\"\"},\"colorscale\":[[0.0,\"#0d0887\"],[0.1111111111111111,\"#46039f\"],[0.2222222222222222,\"#7201a8\"],[0.3333333333333333,\"#9c179e\"],[0.4444444444444444,\"#bd3786\"],[0.5555555555555556,\"#d8576b\"],[0.6666666666666666,\"#ed7953\"],[0.7777777777777778,\"#fb9f3a\"],[0.8888888888888888,\"#fdca26\"],[1.0,\"#f0f921\"]]}],\"mesh3d\":[{\"type\":\"mesh3d\",\"colorbar\":{\"outlinewidth\":0,\"ticks\":\"\"}}],\"scatter\":[{\"fillpattern\":{\"fillmode\":\"overlay\",\"size\":10,\"solidity\":0.2},\"type\":\"scatter\"}],\"parcoords\":[{\"type\":\"parcoords\",\"line\":{\"colorbar\":{\"outlinewidth\":0,\"ticks\":\"\"}}}],\"scatterpolargl\":[{\"type\":\"scatterpolargl\",\"marker\":{\"colorbar\":{\"outlinewidth\":0,\"ticks\":\"\"}}}],\"bar\":[{\"error_x\":{\"color\":\"#2a3f5f\"},\"error_y\":{\"color\":\"#2a3f5f\"},\"marker\":{\"line\":{\"color\":\"#E5ECF6\",\"width\":0.5},\"pattern\":{\"fillmode\":\"overlay\",\"size\":10,\"solidity\":0.2}},\"type\":\"bar\"}],\"scattergeo\":[{\"type\":\"scattergeo\",\"marker\":{\"colorbar\":{\"outlinewidth\":0,\"ticks\":\"\"}}}],\"scatterpolar\":[{\"type\":\"scatterpolar\",\"marker\":{\"colorbar\":{\"outlinewidth\":0,\"ticks\":\"\"}}}],\"histogram\":[{\"marker\":{\"pattern\":{\"fillmode\":\"overlay\",\"size\":10,\"solidity\":0.2}},\"type\":\"histogram\"}],\"scattergl\":[{\"type\":\"scattergl\",\"marker\":{\"colorbar\":{\"outlinewidth\":0,\"ticks\":\"\"}}}],\"scatter3d\":[{\"type\":\"scatter3d\",\"line\":{\"colorbar\":{\"outlinewidth\":0,\"ticks\":\"\"}},\"marker\":{\"colorbar\":{\"outlinewidth\":0,\"ticks\":\"\"}}}],\"scattermapbox\":[{\"type\":\"scattermapbox\",\"marker\":{\"colorbar\":{\"outlinewidth\":0,\"ticks\":\"\"}}}],\"scatterternary\":[{\"type\":\"scatterternary\",\"marker\":{\"colorbar\":{\"outlinewidth\":0,\"ticks\":\"\"}}}],\"scattercarpet\":[{\"type\":\"scattercarpet\",\"marker\":{\"colorbar\":{\"outlinewidth\":0,\"ticks\":\"\"}}}],\"carpet\":[{\"aaxis\":{\"endlinecolor\":\"#2a3f5f\",\"gridcolor\":\"white\",\"linecolor\":\"white\",\"minorgridcolor\":\"white\",\"startlinecolor\":\"#2a3f5f\"},\"baxis\":{\"endlinecolor\":\"#2a3f5f\",\"gridcolor\":\"white\",\"linecolor\":\"white\",\"minorgridcolor\":\"white\",\"startlinecolor\":\"#2a3f5f\"},\"type\":\"carpet\"}],\"table\":[{\"cells\":{\"fill\":{\"color\":\"#EBF0F8\"},\"line\":{\"color\":\"white\"}},\"header\":{\"fill\":{\"color\":\"#C8D4E3\"},\"line\":{\"color\":\"white\"}},\"type\":\"table\"}],\"barpolar\":[{\"marker\":{\"line\":{\"color\":\"#E5ECF6\",\"width\":0.5},\"pattern\":{\"fillmode\":\"overlay\",\"size\":10,\"solidity\":0.2}},\"type\":\"barpolar\"}],\"pie\":[{\"automargin\":true,\"type\":\"pie\"}]},\"layout\":{\"autotypenumbers\":\"strict\",\"colorway\":[\"#636efa\",\"#EF553B\",\"#00cc96\",\"#ab63fa\",\"#FFA15A\",\"#19d3f3\",\"#FF6692\",\"#B6E880\",\"#FF97FF\",\"#FECB52\"],\"font\":{\"color\":\"#2a3f5f\"},\"hovermode\":\"closest\",\"hoverlabel\":{\"align\":\"left\"},\"paper_bgcolor\":\"white\",\"plot_bgcolor\":\"#E5ECF6\",\"polar\":{\"bgcolor\":\"#E5ECF6\",\"angularaxis\":{\"gridcolor\":\"white\",\"linecolor\":\"white\",\"ticks\":\"\"},\"radialaxis\":{\"gridcolor\":\"white\",\"linecolor\":\"white\",\"ticks\":\"\"}},\"ternary\":{\"bgcolor\":\"#E5ECF6\",\"aaxis\":{\"gridcolor\":\"white\",\"linecolor\":\"white\",\"ticks\":\"\"},\"baxis\":{\"gridcolor\":\"white\",\"linecolor\":\"white\",\"ticks\":\"\"},\"caxis\":{\"gridcolor\":\"white\",\"linecolor\":\"white\",\"ticks\":\"\"}},\"coloraxis\":{\"colorbar\":{\"outlinewidth\":0,\"ticks\":\"\"}},\"colorscale\":{\"sequential\":[[0.0,\"#0d0887\"],[0.1111111111111111,\"#46039f\"],[0.2222222222222222,\"#7201a8\"],[0.3333333333333333,\"#9c179e\"],[0.4444444444444444,\"#bd3786\"],[0.5555555555555556,\"#d8576b\"],[0.6666666666666666,\"#ed7953\"],[0.7777777777777778,\"#fb9f3a\"],[0.8888888888888888,\"#fdca26\"],[1.0,\"#f0f921\"]],\"sequentialminus\":[[0.0,\"#0d0887\"],[0.1111111111111111,\"#46039f\"],[0.2222222222222222,\"#7201a8\"],[0.3333333333333333,\"#9c179e\"],[0.4444444444444444,\"#bd3786\"],[0.5555555555555556,\"#d8576b\"],[0.6666666666666666,\"#ed7953\"],[0.7777777777777778,\"#fb9f3a\"],[0.8888888888888888,\"#fdca26\"],[1.0,\"#f0f921\"]],\"diverging\":[[0,\"#8e0152\"],[0.1,\"#c51b7d\"],[0.2,\"#de77ae\"],[0.3,\"#f1b6da\"],[0.4,\"#fde0ef\"],[0.5,\"#f7f7f7\"],[0.6,\"#e6f5d0\"],[0.7,\"#b8e186\"],[0.8,\"#7fbc41\"],[0.9,\"#4d9221\"],[1,\"#276419\"]]},\"xaxis\":{\"gridcolor\":\"white\",\"linecolor\":\"white\",\"ticks\":\"\",\"title\":{\"standoff\":15},\"zerolinecolor\":\"white\",\"automargin\":true,\"zerolinewidth\":2},\"yaxis\":{\"gridcolor\":\"white\",\"linecolor\":\"white\",\"ticks\":\"\",\"title\":{\"standoff\":15},\"zerolinecolor\":\"white\",\"automargin\":true,\"zerolinewidth\":2},\"scene\":{\"xaxis\":{\"backgroundcolor\":\"#E5ECF6\",\"gridcolor\":\"white\",\"linecolor\":\"white\",\"showbackground\":true,\"ticks\":\"\",\"zerolinecolor\":\"white\",\"gridwidth\":2},\"yaxis\":{\"backgroundcolor\":\"#E5ECF6\",\"gridcolor\":\"white\",\"linecolor\":\"white\",\"showbackground\":true,\"ticks\":\"\",\"zerolinecolor\":\"white\",\"gridwidth\":2},\"zaxis\":{\"backgroundcolor\":\"#E5ECF6\",\"gridcolor\":\"white\",\"linecolor\":\"white\",\"showbackground\":true,\"ticks\":\"\",\"zerolinecolor\":\"white\",\"gridwidth\":2}},\"shapedefaults\":{\"line\":{\"color\":\"#2a3f5f\"}},\"annotationdefaults\":{\"arrowcolor\":\"#2a3f5f\",\"arrowhead\":0,\"arrowwidth\":1},\"geo\":{\"bgcolor\":\"white\",\"landcolor\":\"#E5ECF6\",\"subunitcolor\":\"white\",\"showland\":true,\"showlakes\":true,\"lakecolor\":\"white\"},\"title\":{\"x\":0.05},\"mapbox\":{\"style\":\"light\"}}},\"legend\":{\"tracegroupgap\":0},\"title\":{\"text\":\"Distribution of Sentiment Categories in Comments\"},\"piecolorway\":[\"rgb(228,26,28)\",\"rgb(55,126,184)\",\"rgb(77,175,74)\",\"rgb(152,78,163)\",\"rgb(255,127,0)\",\"rgb(255,255,51)\",\"rgb(166,86,40)\",\"rgb(247,129,191)\",\"rgb(153,153,153)\"],\"paper_bgcolor\":\"white\"},                        {\"responsive\": true}                    ).then(function(){\n",
       "                            \n",
       "var gd = document.getElementById('64097734-9918-4efa-a007-f1845305aa3b');\n",
       "var x = new MutationObserver(function (mutations, observer) {{\n",
       "        var display = window.getComputedStyle(gd).display;\n",
       "        if (!display || display === 'none') {{\n",
       "            console.log([gd, 'removed!']);\n",
       "            Plotly.purge(gd);\n",
       "            observer.disconnect();\n",
       "        }}\n",
       "}});\n",
       "\n",
       "// Listen for the removal of the full notebook cells\n",
       "var notebookContainer = gd.closest('#notebook-container');\n",
       "if (notebookContainer) {{\n",
       "    x.observe(notebookContainer, {childList: true});\n",
       "}}\n",
       "\n",
       "// Listen for the clearing of the current output cell\n",
       "var outputEl = gd.closest('.output');\n",
       "if (outputEl) {{\n",
       "    x.observe(outputEl, {childList: true});\n",
       "}}\n",
       "\n",
       "                        })                };                });            </script>        </div>"
      ]
     },
     "metadata": {},
     "output_type": "display_data"
    }
   ],
   "source": [
    "import plotly.express as px\n",
    "\n",
    "# Create a Pie Chart using Plotly\n",
    "fig = px.pie(counts_df, values='Counts', names=counts_df.index, \n",
    "             labels={'Category': 'Sentiment Category', 'Counts': 'Count'},\n",
    "             title='Distribution of Sentiment Categories in Comments',\n",
    "             hole=0.3, \n",
    "             color_discrete_sequence=px.colors.qualitative.Set1)\n",
    "\n",
    "# Set the background color of the Pie Chart to dark grey\n",
    "fig.update_layout(paper_bgcolor='white')\n",
    "\n",
    "# Show the Plotly Pie Chart\n",
    "fig.show()"
   ]
  },
  {
   "cell_type": "markdown",
   "id": "51dffbd5",
   "metadata": {
    "papermill": {
     "duration": 0.018605,
     "end_time": "2023-12-10T19:52:15.962224",
     "exception": false,
     "start_time": "2023-12-10T19:52:15.943619",
     "status": "completed"
    },
    "tags": []
   },
   "source": [
    "Positive Score Comments"
   ]
  },
  {
   "cell_type": "code",
   "execution_count": 28,
   "id": "696a9831",
   "metadata": {
    "execution": {
     "iopub.execute_input": "2023-12-10T19:52:16.009118Z",
     "iopub.status.busy": "2023-12-10T19:52:16.008252Z",
     "iopub.status.idle": "2023-12-10T19:52:16.229774Z",
     "shell.execute_reply": "2023-12-10T19:52:16.228837Z"
    },
    "papermill": {
     "duration": 0.248119,
     "end_time": "2023-12-10T19:52:16.231939",
     "exception": false,
     "start_time": "2023-12-10T19:52:15.983820",
     "status": "completed"
    },
    "tags": []
   },
   "outputs": [
    {
     "name": "stdout",
     "output_type": "stream",
     "text": [
      "361366    ottoman, connaîtr express exclus immigration. ...\n",
      "39798     countri like tie talk neighter made irigin afg...\n",
      "95240     develop discussions. neutral diplomacy. contig...\n",
      "61924     government nakba, polar cars, oppression. when...\n",
      "211703    teachers, victims, rape dozen [so] morph that,...\n",
      "158510    like young 2 talk taken valu ashkenazi, would ...\n",
      "46569     like ones, young bold are. neat. polar hard, s...\n",
      "136050    impli simplistic? correct uncurtail that, more...\n",
      "364007    stay like they'v made aw would that, you, hamm...\n",
      "281466    \"emphas ironi \"labor connect \"support la vers ...\n",
      "Name: clean_text, dtype: object\n"
     ]
    }
   ],
   "source": [
    "# Select the top 10 comments with the highest 'Compound' scores from the DataFrame\n",
    "top_10_pos_comments = df.nlargest(n=10, columns=['Compound'])[\"clean_text\"]\n",
    "\n",
    "# This line selects the top 50 comments based on their 'Compound' scores,\n",
    "# indicating the 10 comments with the most positive sentiment.\n",
    "\n",
    "print(top_10_pos_comments)"
   ]
  },
  {
   "cell_type": "markdown",
   "id": "a9a2939b",
   "metadata": {
    "papermill": {
     "duration": 0.01866,
     "end_time": "2023-12-10T19:52:16.269425",
     "exception": false,
     "start_time": "2023-12-10T19:52:16.250765",
     "status": "completed"
    },
    "tags": []
   },
   "source": [
    "Negative Score Comments"
   ]
  },
  {
   "cell_type": "code",
   "execution_count": 29,
   "id": "87cbc142",
   "metadata": {
    "execution": {
     "iopub.execute_input": "2023-12-10T19:52:16.308807Z",
     "iopub.status.busy": "2023-12-10T19:52:16.308036Z",
     "iopub.status.idle": "2023-12-10T19:52:16.514722Z",
     "shell.execute_reply": "2023-12-10T19:52:16.513601Z"
    },
    "papermill": {
     "duration": 0.228621,
     "end_time": "2023-12-10T19:52:16.516705",
     "exception": false,
     "start_time": "2023-12-10T19:52:16.288084",
     "status": "completed"
    },
    "tags": []
   },
   "outputs": [
    {
     "name": "stdout",
     "output_type": "stream",
     "text": [
      "210996    germans. truth demonstr certain statement anot...\n",
      "287033    \"both agreement unprovok pend mention jail fuc...\n",
      "314078    rape dozen jew-free. mob infant greek non-aggr...\n",
      "161115    impli whenev nationalist vacuum. fuck egypt, p...\n",
      "343228    countri like citi shame 9 made dog onc etc. te...\n",
      "96382     ak tortur flee, crossfire, traumat fresh mouth...\n",
      "24864     war. sophist talk ukraine, areas, tri reason w...\n",
      "24868     war. sophist talk ukraine, areas, tri reason w...\n",
      "98456     war. sophist talk ukraine, areas, tri reason w...\n",
      "32958     war. sophist talk ukraine, areas, tri reason w...\n",
      "Name: clean_text, dtype: object\n"
     ]
    }
   ],
   "source": [
    "# Select the top 10 comments with the highest 'Compound' scores from the DataFrame\n",
    "top_10_neg_comments = df.nsmallest(n=10, columns=['Compound'])[\"clean_text\"]\n",
    "\n",
    "print(top_10_neg_comments)"
   ]
  },
  {
   "cell_type": "markdown",
   "id": "3012d26b",
   "metadata": {
    "papermill": {
     "duration": 0.018517,
     "end_time": "2023-12-10T19:52:16.554338",
     "exception": false,
     "start_time": "2023-12-10T19:52:16.535821",
     "status": "completed"
    },
    "tags": []
   },
   "source": [
    "Comments With High Upvotes"
   ]
  },
  {
   "cell_type": "code",
   "execution_count": 30,
   "id": "23901dd5",
   "metadata": {
    "execution": {
     "iopub.execute_input": "2023-12-10T19:52:16.595175Z",
     "iopub.status.busy": "2023-12-10T19:52:16.594270Z",
     "iopub.status.idle": "2023-12-10T19:52:16.944186Z",
     "shell.execute_reply": "2023-12-10T19:52:16.943021Z"
    },
    "papermill": {
     "duration": 0.372084,
     "end_time": "2023-12-10T19:52:16.946511",
     "exception": false,
     "start_time": "2023-12-10T19:52:16.574427",
     "status": "completed"
    },
    "tags": []
   },
   "outputs": [
    {
     "name": "stdout",
     "output_type": "stream",
     "text": [
      "355485    no? netanyahu intellig 1646300 percent. pretti...\n",
      "341434    taken total would enclave, sieg far gun gaza. ...\n",
      "220023    1174200 either israel would that, confid affil...\n",
      "54889     way odd 1164200 ask percent. change. confid regim\n",
      "435128    veri ugli 1042100 east. percent. middl confid ...\n",
      "429377               well. shit 1009000 percent. end confid\n",
      "71376     impli known edit: everi includ present mean ta...\n",
      "28778     respons live emerg would confid 899300 er time...\n",
      "205179    edit: guaranteed, whenev check 885700 2: remem...\n",
      "88547     made grievanc terror appal with. statement gri...\n",
      "Name: clean_text, dtype: object\n"
     ]
    }
   ],
   "source": [
    "# Sort the DataFrame by 'score' in descending order and select unique 'clean_text' values\n",
    "top_10_high_score_comments = df.sort_values('score', ascending=False)['clean_text'].drop_duplicates().head(10)\n",
    "\n",
    "# This line sorts the DataFrame by 'score' in descending order, \n",
    "# selects unique 'clean_text' values, and retrieves the top 50 comments \n",
    "# with the highest scores.\n",
    "print(top_10_high_score_comments)"
   ]
  },
  {
   "cell_type": "markdown",
   "id": "55e8bf6f",
   "metadata": {
    "papermill": {
     "duration": 0.018458,
     "end_time": "2023-12-10T19:52:16.984095",
     "exception": false,
     "start_time": "2023-12-10T19:52:16.965637",
     "status": "completed"
    },
    "tags": []
   },
   "source": [
    "Comments With Low Upvotes"
   ]
  },
  {
   "cell_type": "code",
   "execution_count": 31,
   "id": "8942615b",
   "metadata": {
    "execution": {
     "iopub.execute_input": "2023-12-10T19:52:17.023348Z",
     "iopub.status.busy": "2023-12-10T19:52:17.022637Z",
     "iopub.status.idle": "2023-12-10T19:52:17.306614Z",
     "shell.execute_reply": "2023-12-10T19:52:17.305448Z"
    },
    "papermill": {
     "duration": 0.305767,
     "end_time": "2023-12-10T19:52:17.308581",
     "exception": false,
     "start_time": "2023-12-10T19:52:17.002814",
     "status": "completed"
    },
    "tags": []
   },
   "outputs": [
    {
     "name": "stdout",
     "output_type": "stream",
     "text": [
      "221507    5 hama strike came yeah saidnthey confid eithe...\n",
      "436406    fire -93400 rockets. thousand percent. pretti ...\n",
      "312415    target. once, proven percent. actual -76300 mi...\n",
      "6730      kill -67300 peopl disgust percent. even biblic...\n",
      "70019      yeah percent. dozen -63200 area. confid civilian\n",
      "242531    target crime. also hit legal. percent. necessa...\n",
      "113465    www.theguardian.com confid apr to. world 05 20...\n",
      "436376    attack. taken hit israel reason approach confi...\n",
      "160848    part accurate. -52100 racist percent. sexist. ...\n",
      "221304    made would confid anyth becaus know -43800 per...\n",
      "Name: clean_text, dtype: object\n"
     ]
    }
   ],
   "source": [
    "top_10_low_score_comments = df.sort_values('score', ascending=True)['clean_text'].drop_duplicates().head(10)\n",
    "print(top_10_low_score_comments)"
   ]
  },
  {
   "cell_type": "markdown",
   "id": "265f47bf",
   "metadata": {
    "papermill": {
     "duration": 0.018851,
     "end_time": "2023-12-10T19:52:17.346768",
     "exception": false,
     "start_time": "2023-12-10T19:52:17.327917",
     "status": "completed"
    },
    "tags": []
   },
   "source": [
    "Visualization of the Sentiment Scores of Positive, Neutral & Negative Tweets"
   ]
  },
  {
   "cell_type": "code",
   "execution_count": 32,
   "id": "8a18f908",
   "metadata": {
    "execution": {
     "iopub.execute_input": "2023-12-10T19:52:17.386195Z",
     "iopub.status.busy": "2023-12-10T19:52:17.385569Z",
     "iopub.status.idle": "2023-12-10T19:52:22.620630Z",
     "shell.execute_reply": "2023-12-10T19:52:22.619611Z"
    },
    "papermill": {
     "duration": 5.2576,
     "end_time": "2023-12-10T19:52:22.623189",
     "exception": false,
     "start_time": "2023-12-10T19:52:17.365589",
     "status": "completed"
    },
    "tags": []
   },
   "outputs": [
    {
     "name": "stderr",
     "output_type": "stream",
     "text": [
      "/tmp/ipykernel_26/4104462291.py:10: UserWarning:\n",
      "\n",
      "\n",
      "\n",
      "`distplot` is a deprecated function and will be removed in seaborn v0.14.0.\n",
      "\n",
      "Please adapt your code to use either `displot` (a figure-level function with\n",
      "similar flexibility) or `kdeplot` (an axes-level function for kernel density plots).\n",
      "\n",
      "For a guide to updating your code to use the new functions, please see\n",
      "https://gist.github.com/mwaskom/de44147ed2974457ad6372750bbe5751\n",
      "\n",
      "\n",
      "/opt/conda/lib/python3.10/site-packages/seaborn/distributions.py:2511: FutureWarning:\n",
      "\n",
      "\n",
      "\n",
      "`shade` is now deprecated in favor of `fill`; setting `fill=True`.\n",
      "This will become an error in seaborn v0.14.0; please update your code.\n",
      "\n",
      "\n",
      "/opt/conda/lib/python3.10/site-packages/seaborn/_oldcore.py:1498: FutureWarning:\n",
      "\n",
      "is_categorical_dtype is deprecated and will be removed in a future version. Use isinstance(dtype, CategoricalDtype) instead\n",
      "\n",
      "/opt/conda/lib/python3.10/site-packages/seaborn/_oldcore.py:1119: FutureWarning:\n",
      "\n",
      "use_inf_as_na option is deprecated and will be removed in a future version. Convert inf values to NaN before operating instead.\n",
      "\n",
      "/tmp/ipykernel_26/4104462291.py:10: UserWarning:\n",
      "\n",
      "\n",
      "\n",
      "`distplot` is a deprecated function and will be removed in seaborn v0.14.0.\n",
      "\n",
      "Please adapt your code to use either `displot` (a figure-level function with\n",
      "similar flexibility) or `kdeplot` (an axes-level function for kernel density plots).\n",
      "\n",
      "For a guide to updating your code to use the new functions, please see\n",
      "https://gist.github.com/mwaskom/de44147ed2974457ad6372750bbe5751\n",
      "\n",
      "\n",
      "/opt/conda/lib/python3.10/site-packages/seaborn/distributions.py:2511: FutureWarning:\n",
      "\n",
      "\n",
      "\n",
      "`shade` is now deprecated in favor of `fill`; setting `fill=True`.\n",
      "This will become an error in seaborn v0.14.0; please update your code.\n",
      "\n",
      "\n",
      "/opt/conda/lib/python3.10/site-packages/seaborn/_oldcore.py:1498: FutureWarning:\n",
      "\n",
      "is_categorical_dtype is deprecated and will be removed in a future version. Use isinstance(dtype, CategoricalDtype) instead\n",
      "\n",
      "/opt/conda/lib/python3.10/site-packages/seaborn/_oldcore.py:1119: FutureWarning:\n",
      "\n",
      "use_inf_as_na option is deprecated and will be removed in a future version. Convert inf values to NaN before operating instead.\n",
      "\n",
      "/tmp/ipykernel_26/4104462291.py:10: UserWarning:\n",
      "\n",
      "\n",
      "\n",
      "`distplot` is a deprecated function and will be removed in seaborn v0.14.0.\n",
      "\n",
      "Please adapt your code to use either `displot` (a figure-level function with\n",
      "similar flexibility) or `kdeplot` (an axes-level function for kernel density plots).\n",
      "\n",
      "For a guide to updating your code to use the new functions, please see\n",
      "https://gist.github.com/mwaskom/de44147ed2974457ad6372750bbe5751\n",
      "\n",
      "\n",
      "/opt/conda/lib/python3.10/site-packages/seaborn/distributions.py:2511: FutureWarning:\n",
      "\n",
      "\n",
      "\n",
      "`shade` is now deprecated in favor of `fill`; setting `fill=True`.\n",
      "This will become an error in seaborn v0.14.0; please update your code.\n",
      "\n",
      "\n",
      "/opt/conda/lib/python3.10/site-packages/seaborn/_oldcore.py:1498: FutureWarning:\n",
      "\n",
      "is_categorical_dtype is deprecated and will be removed in a future version. Use isinstance(dtype, CategoricalDtype) instead\n",
      "\n",
      "/opt/conda/lib/python3.10/site-packages/seaborn/_oldcore.py:1119: FutureWarning:\n",
      "\n",
      "use_inf_as_na option is deprecated and will be removed in a future version. Convert inf values to NaN before operating instead.\n",
      "\n"
     ]
    },
    {
     "data": {
      "image/png": "[encoded data removed]",
      "text/plain": [
       "<Figure size 1000x600 with 1 Axes>"
      ]
     },
     "metadata": {},
     "output_type": "display_data"
    }
   ],
   "source": [
    "# Define the sentiment categories and corresponding colors\n",
    "sentiment_categories = [\"Positive\", \"Negative\", \"Neutral\"]\n",
    "colors = ['green', 'red', 'yellow']\n",
    "\n",
    "# Set up the plot\n",
    "plt.figure(figsize=(10, 6))\n",
    "\n",
    "# Iterate over sentiment categories and plot KDE\n",
    "for category, color in zip(sentiment_categories, colors):\n",
    "    sns.distplot(df[category], hist=False, kde=True,\n",
    "                 bins=int(180/5), color=color,\n",
    "                 hist_kws={'edgecolor': 'black'},\n",
    "                 kde_kws={'shade': True, 'linewidth': 2}, label=category)\n",
    "\n",
    "# Set plot labels and legend\n",
    "plt.xlabel('Sentiment Score')\n",
    "plt.ylabel('Density')\n",
    "plt.title('Density Plot of Sentiment Scores')\n",
    "plt.legend(title='Sentiment Category')\n",
    "\n",
    "# Show the plot\n",
    "plt.show()"
   ]
  },
  {
   "cell_type": "markdown",
   "id": "f7993663",
   "metadata": {
    "papermill": {
     "duration": 0.021359,
     "end_time": "2023-12-10T19:52:22.666792",
     "exception": false,
     "start_time": "2023-12-10T19:52:22.645433",
     "status": "completed"
    },
    "tags": []
   },
   "source": [
    "Visualization of the sentiment score"
   ]
  },
  {
   "cell_type": "code",
   "execution_count": 33,
   "id": "14e6f3c7",
   "metadata": {
    "execution": {
     "iopub.execute_input": "2023-12-10T19:52:22.711108Z",
     "iopub.status.busy": "2023-12-10T19:52:22.710726Z",
     "iopub.status.idle": "2023-12-10T19:52:24.512763Z",
     "shell.execute_reply": "2023-12-10T19:52:24.511868Z"
    },
    "papermill": {
     "duration": 1.827477,
     "end_time": "2023-12-10T19:52:24.514831",
     "exception": false,
     "start_time": "2023-12-10T19:52:22.687354",
     "status": "completed"
    },
    "tags": []
   },
   "outputs": [
    {
     "name": "stderr",
     "output_type": "stream",
     "text": [
      "/tmp/ipykernel_26/1808040337.py:1: UserWarning:\n",
      "\n",
      "\n",
      "\n",
      "`distplot` is a deprecated function and will be removed in seaborn v0.14.0.\n",
      "\n",
      "Please adapt your code to use either `displot` (a figure-level function with\n",
      "similar flexibility) or `kdeplot` (an axes-level function for kernel density plots).\n",
      "\n",
      "For a guide to updating your code to use the new functions, please see\n",
      "https://gist.github.com/mwaskom/de44147ed2974457ad6372750bbe5751\n",
      "\n",
      "\n",
      "/opt/conda/lib/python3.10/site-packages/seaborn/distributions.py:2511: FutureWarning:\n",
      "\n",
      "\n",
      "\n",
      "`shade` is now deprecated in favor of `fill`; setting `fill=True`.\n",
      "This will become an error in seaborn v0.14.0; please update your code.\n",
      "\n",
      "\n",
      "/opt/conda/lib/python3.10/site-packages/seaborn/_oldcore.py:1498: FutureWarning:\n",
      "\n",
      "is_categorical_dtype is deprecated and will be removed in a future version. Use isinstance(dtype, CategoricalDtype) instead\n",
      "\n",
      "/opt/conda/lib/python3.10/site-packages/seaborn/_oldcore.py:1119: FutureWarning:\n",
      "\n",
      "use_inf_as_na option is deprecated and will be removed in a future version. Convert inf values to NaN before operating instead.\n",
      "\n"
     ]
    },
    {
     "data": {
      "text/plain": [
       "<Axes: xlabel='Compound', ylabel='Density'>"
      ]
     },
     "execution_count": 33,
     "metadata": {},
     "output_type": "execute_result"
    },
    {
     "data": {
      "image/png": "[encoded data removed]",
      "text/plain": [
       "<Figure size 640x480 with 1 Axes>"
      ]
     },
     "metadata": {},
     "output_type": "display_data"
    }
   ],
   "source": [
    "sns.distplot(df[\"Compound\"], hist=False, kde=True, \n",
    "             bins=int(180/5), color = 'green', \n",
    "             hist_kws={'edgecolor':'black'},\n",
    "             kde_kws={'shade': True,'linewidth': 2})"
   ]
  },
  {
   "cell_type": "code",
   "execution_count": 34,
   "id": "d4566111",
   "metadata": {
    "execution": {
     "iopub.execute_input": "2023-12-10T19:52:24.558124Z",
     "iopub.status.busy": "2023-12-10T19:52:24.557782Z",
     "iopub.status.idle": "2023-12-10T19:52:24.827340Z",
     "shell.execute_reply": "2023-12-10T19:52:24.826240Z"
    },
    "papermill": {
     "duration": 0.29348,
     "end_time": "2023-12-10T19:52:24.829677",
     "exception": false,
     "start_time": "2023-12-10T19:52:24.536197",
     "status": "completed"
    },
    "tags": []
   },
   "outputs": [
    {
     "name": "stdout",
     "output_type": "stream",
     "text": [
      "<class 'pandas.core.frame.DataFrame'>\n",
      "RangeIndex: 436725 entries, 0 to 436724\n",
      "Data columns (total 11 columns):\n",
      " #   Column        Non-Null Count   Dtype  \n",
      "---  ------        --------------   -----  \n",
      " 0   comment_id    436725 non-null  object \n",
      " 1   score         436725 non-null  int64  \n",
      " 2   self_text     436725 non-null  object \n",
      " 3   subreddit     436725 non-null  object \n",
      " 4   created_time  436725 non-null  object \n",
      " 5   clean_text    436725 non-null  object \n",
      " 6   Compound      436725 non-null  float64\n",
      " 7   Positive      436725 non-null  float64\n",
      " 8   Negative      436725 non-null  float64\n",
      " 9   Neutral       436725 non-null  float64\n",
      " 10  Category      436725 non-null  object \n",
      "dtypes: float64(4), int64(1), object(6)\n",
      "memory usage: 36.7+ MB\n"
     ]
    }
   ],
   "source": [
    "df.info()"
   ]
  },
  {
   "cell_type": "markdown",
   "id": "f1cb5cb4",
   "metadata": {
    "papermill": {
     "duration": 0.020394,
     "end_time": "2023-12-10T19:52:24.871864",
     "exception": false,
     "start_time": "2023-12-10T19:52:24.851470",
     "status": "completed"
    },
    "tags": []
   },
   "source": [
    "Positive or Negative Bias Detection"
   ]
  },
  {
   "cell_type": "code",
   "execution_count": 35,
   "id": "25129908",
   "metadata": {
    "execution": {
     "iopub.execute_input": "2023-12-10T19:52:24.915331Z",
     "iopub.status.busy": "2023-12-10T19:52:24.914456Z",
     "iopub.status.idle": "2023-12-10T19:52:24.973981Z",
     "shell.execute_reply": "2023-12-10T19:52:24.972803Z"
    },
    "papermill": {
     "duration": 0.083596,
     "end_time": "2023-12-10T19:52:24.976066",
     "exception": false,
     "start_time": "2023-12-10T19:52:24.892470",
     "status": "completed"
    },
    "tags": []
   },
   "outputs": [
    {
     "name": "stdout",
     "output_type": "stream",
     "text": [
      "                       Positive  Negative      Bias Bias Direction\n",
      "subreddit                                                         \n",
      "AbruptChaos            0.111277  0.098473  0.012804       Positive\n",
      "NonCredibleDefense     0.100766  0.107463 -0.006697        Neutral\n",
      "CrazyFuckingVideos     0.103537  0.118739 -0.015201       Negative\n",
      "Palestine              0.116285  0.133592 -0.017307       Negative\n",
      "AskMiddleEast          0.111833  0.133032 -0.021198       Negative\n",
      "IsraelPalestine        0.112587  0.138679 -0.026092       Negative\n",
      "worldnews              0.108702  0.136850 -0.028148       Negative\n",
      "CombatFootage          0.102937  0.137650 -0.034713       Negative\n",
      "TerrifyingAsFuck       0.107607  0.148206 -0.040599       Negative\n",
      "ActualPublicFreakouts  0.110174  0.151761 -0.041588       Negative\n",
      "PublicFreakout         0.103171  0.147179 -0.044007       Negative\n",
      "worldnewsvideo         0.103719  0.148404 -0.044685       Negative\n",
      "IsrealPalestineWar_23  0.109823  0.167323 -0.057500       Negative\n",
      "NoahGetTheBoat         0.108670  0.183660 -0.074991       Negative\n"
     ]
    }
   ],
   "source": [
    "# Calculate the average sentiment scores for each subreddit\n",
    "subreddit_sentiment = df.groupby('subreddit')[['Positive', 'Negative']].mean()\n",
    "\n",
    "# Calculate the difference between positive and negative sentiment scores\n",
    "subreddit_sentiment['Bias'] = subreddit_sentiment['Positive'] - subreddit_sentiment['Negative']\n",
    "\n",
    "# Determine the direction of bias: Positive, Negative, or Neutral\n",
    "def determine_bias_direction(bias):\n",
    "    if bias > 0.01:  # You can adjust this threshold based on your dataset\n",
    "        return 'Positive'\n",
    "    elif bias < -0.01:  # You can adjust this threshold based on your dataset\n",
    "        return 'Negative'\n",
    "    else:\n",
    "        return 'Neutral'\n",
    "\n",
    "subreddit_sentiment['Bias Direction'] = subreddit_sentiment['Bias'].apply(determine_bias_direction)\n",
    "\n",
    "# Sort subreddits based on bias in descending order\n",
    "most_biased_subreddits = subreddit_sentiment.sort_values(by='Bias', ascending=False)\n",
    "\n",
    "# Print or view the most biased subreddits with bias direction\n",
    "print(most_biased_subreddits)"
   ]
  },
  {
   "cell_type": "code",
   "execution_count": 36,
   "id": "b7ea62aa",
   "metadata": {
    "execution": {
     "iopub.execute_input": "2023-12-10T19:52:25.019597Z",
     "iopub.status.busy": "2023-12-10T19:52:25.019234Z",
     "iopub.status.idle": "2023-12-10T19:52:25.025123Z",
     "shell.execute_reply": "2023-12-10T19:52:25.024226Z"
    },
    "papermill": {
     "duration": 0.029878,
     "end_time": "2023-12-10T19:52:25.026984",
     "exception": false,
     "start_time": "2023-12-10T19:52:24.997106",
     "status": "completed"
    },
    "tags": []
   },
   "outputs": [
    {
     "data": {
      "text/plain": [
       "(436725, 11)"
      ]
     },
     "execution_count": 36,
     "metadata": {},
     "output_type": "execute_result"
    }
   ],
   "source": [
    "df.shape"
   ]
  },
  {
   "cell_type": "code",
   "execution_count": 37,
   "id": "6238aae2",
   "metadata": {
    "execution": {
     "iopub.execute_input": "2023-12-10T19:52:25.070855Z",
     "iopub.status.busy": "2023-12-10T19:52:25.070130Z",
     "iopub.status.idle": "2023-12-10T19:52:25.306148Z",
     "shell.execute_reply": "2023-12-10T19:52:25.305380Z"
    },
    "papermill": {
     "duration": 0.260424,
     "end_time": "2023-12-10T19:52:25.308431",
     "exception": false,
     "start_time": "2023-12-10T19:52:25.048007",
     "status": "completed"
    },
    "tags": []
   },
   "outputs": [],
   "source": [
    "df_no_nan = df.dropna(subset=['clean_text'])"
   ]
  },
  {
   "cell_type": "code",
   "execution_count": 38,
   "id": "7c5fba1f",
   "metadata": {
    "execution": {
     "iopub.execute_input": "2023-12-10T19:52:25.353222Z",
     "iopub.status.busy": "2023-12-10T19:52:25.352577Z",
     "iopub.status.idle": "2023-12-10T19:52:26.068098Z",
     "shell.execute_reply": "2023-12-10T19:52:26.067130Z"
    },
    "papermill": {
     "duration": 0.74059,
     "end_time": "2023-12-10T19:52:26.070362",
     "exception": false,
     "start_time": "2023-12-10T19:52:25.329772",
     "status": "completed"
    },
    "tags": []
   },
   "outputs": [
    {
     "data": {
      "text/plain": [
       "[<matplotlib.lines.Line2D at 0x7e56d714b490>]"
      ]
     },
     "execution_count": 38,
     "metadata": {},
     "output_type": "execute_result"
    },
    {
     "data": {
      "image/png": "[encoded data removed]",
      "text/plain": [
       "<Figure size 640x480 with 1 Axes>"
      ]
     },
     "metadata": {},
     "output_type": "display_data"
    }
   ],
   "source": [
    "# Plotting word lenghts of tweets\n",
    "word_length = [len(x) for x in df['clean_text']]\n",
    "plt.plot(word_length)"
   ]
  },
  {
   "cell_type": "code",
   "execution_count": 39,
   "id": "dbfec2cb",
   "metadata": {
    "execution": {
     "iopub.execute_input": "2023-12-10T19:52:26.115691Z",
     "iopub.status.busy": "2023-12-10T19:52:26.115308Z",
     "iopub.status.idle": "2023-12-10T19:52:26.153782Z",
     "shell.execute_reply": "2023-12-10T19:52:26.153021Z"
    },
    "papermill": {
     "duration": 0.063602,
     "end_time": "2023-12-10T19:52:26.156015",
     "exception": false,
     "start_time": "2023-12-10T19:52:26.092413",
     "status": "completed"
    },
    "tags": []
   },
   "outputs": [],
   "source": [
    "# Converting sentences to string\n",
    "df['clean_text'] = df['clean_text'].astype(str)"
   ]
  },
  {
   "cell_type": "code",
   "execution_count": 40,
   "id": "5299ddec",
   "metadata": {
    "execution": {
     "iopub.execute_input": "2023-12-10T19:52:26.201649Z",
     "iopub.status.busy": "2023-12-10T19:52:26.201286Z",
     "iopub.status.idle": "2023-12-10T19:52:26.334021Z",
     "shell.execute_reply": "2023-12-10T19:52:26.333235Z"
    },
    "papermill": {
     "duration": 0.158301,
     "end_time": "2023-12-10T19:52:26.336300",
     "exception": false,
     "start_time": "2023-12-10T19:52:26.177999",
     "status": "completed"
    },
    "tags": []
   },
   "outputs": [],
   "source": [
    "# Assuming df is your DataFrame\n",
    "df = df[df['Category'] != '0']"
   ]
  },
  {
   "cell_type": "code",
   "execution_count": 41,
   "id": "3ea734d5",
   "metadata": {
    "execution": {
     "iopub.execute_input": "2023-12-10T19:52:26.381529Z",
     "iopub.status.busy": "2023-12-10T19:52:26.381156Z",
     "iopub.status.idle": "2023-12-10T19:52:26.462348Z",
     "shell.execute_reply": "2023-12-10T19:52:26.461470Z"
    },
    "papermill": {
     "duration": 0.106055,
     "end_time": "2023-12-10T19:52:26.464446",
     "exception": false,
     "start_time": "2023-12-10T19:52:26.358391",
     "status": "completed"
    },
    "tags": []
   },
   "outputs": [
    {
     "data": {
      "text/plain": [
       "Category\n",
       "Neutral     261709\n",
       "Negative    120859\n",
       "Positive     54146\n",
       "Name: count, dtype: int64"
      ]
     },
     "execution_count": 41,
     "metadata": {},
     "output_type": "execute_result"
    }
   ],
   "source": [
    "# Types of products\n",
    "df['Category'].value_counts()"
   ]
  },
  {
   "cell_type": "code",
   "execution_count": 42,
   "id": "41a896da",
   "metadata": {
    "execution": {
     "iopub.execute_input": "2023-12-10T19:52:26.510507Z",
     "iopub.status.busy": "2023-12-10T19:52:26.510093Z",
     "iopub.status.idle": "2023-12-10T19:52:27.104947Z",
     "shell.execute_reply": "2023-12-10T19:52:27.104001Z"
    },
    "papermill": {
     "duration": 0.620429,
     "end_time": "2023-12-10T19:52:27.107007",
     "exception": false,
     "start_time": "2023-12-10T19:52:26.486578",
     "status": "completed"
    },
    "tags": []
   },
   "outputs": [
    {
     "data": {
      "image/png": "[encoded data removed]",
      "text/plain": [
       "<Figure size 640x480 with 1 Axes>"
      ]
     },
     "metadata": {},
     "output_type": "display_data"
    }
   ],
   "source": [
    "# Plotting product value counts\n",
    "df.groupby('Category').count().plot(kind='bar')\n",
    "plt.show()"
   ]
  },
  {
   "cell_type": "code",
   "execution_count": 43,
   "id": "41209b46",
   "metadata": {
    "execution": {
     "iopub.execute_input": "2023-12-10T19:52:27.154213Z",
     "iopub.status.busy": "2023-12-10T19:52:27.153397Z",
     "iopub.status.idle": "2023-12-10T20:06:12.263271Z",
     "shell.execute_reply": "2023-12-10T20:06:12.262250Z"
    },
    "papermill": {
     "duration": 825.136448,
     "end_time": "2023-12-10T20:06:12.265956",
     "exception": false,
     "start_time": "2023-12-10T19:52:27.129508",
     "status": "completed"
    },
    "tags": []
   },
   "outputs": [
    {
     "name": "stderr",
     "output_type": "stream",
     "text": [
      "/opt/conda/lib/python3.10/site-packages/scipy/__init__.py:146: UserWarning: A NumPy version >=1.16.5 and <1.23.0 is required for this version of SciPy (detected version 1.24.3\n",
      "  warnings.warn(f\"A NumPy version >={np_minversion} and <{np_maxversion}\"\n",
      "/opt/conda/lib/python3.10/site-packages/scipy/__init__.py:146: UserWarning: A NumPy version >=1.16.5 and <1.23.0 is required for this version of SciPy (detected version 1.24.3\n",
      "  warnings.warn(f\"A NumPy version >={np_minversion} and <{np_maxversion}\"\n",
      "/opt/conda/lib/python3.10/site-packages/scipy/__init__.py:146: UserWarning: A NumPy version >=1.16.5 and <1.23.0 is required for this version of SciPy (detected version 1.24.3\n",
      "  warnings.warn(f\"A NumPy version >={np_minversion} and <{np_maxversion}\"\n",
      "/opt/conda/lib/python3.10/site-packages/scipy/__init__.py:146: UserWarning: A NumPy version >=1.16.5 and <1.23.0 is required for this version of SciPy (detected version 1.24.3\n",
      "  warnings.warn(f\"A NumPy version >={np_minversion} and <{np_maxversion}\"\n"
     ]
    }
   ],
   "source": [
    "# Step 3: Topic Modeling\n",
    "vectorizer = TfidfVectorizer(max_features=5000, stop_words='english')\n",
    "tfidf_matrix = vectorizer.fit_transform(df['clean_text'])\n",
    "lda_model = LatentDirichletAllocation(n_components=5, random_state=42, n_jobs=-1)  # Assuming 5 topics\n",
    "lda_topic_matrix = lda_model.fit_transform(tfidf_matrix)"
   ]
  },
  {
   "cell_type": "markdown",
   "id": "1e75c382",
   "metadata": {
    "papermill": {
     "duration": 0.022735,
     "end_time": "2023-12-10T20:06:12.315099",
     "exception": false,
     "start_time": "2023-12-10T20:06:12.292364",
     "status": "completed"
    },
    "tags": []
   },
   "source": [
    "Topic Modelling"
   ]
  },
  {
   "cell_type": "code",
   "execution_count": 44,
   "id": "3b002934",
   "metadata": {
    "execution": {
     "iopub.execute_input": "2023-12-10T20:06:12.365955Z",
     "iopub.status.busy": "2023-12-10T20:06:12.365554Z",
     "iopub.status.idle": "2023-12-10T20:06:12.382850Z",
     "shell.execute_reply": "2023-12-10T20:06:12.381635Z"
    },
    "papermill": {
     "duration": 0.046368,
     "end_time": "2023-12-10T20:06:12.385115",
     "exception": false,
     "start_time": "2023-12-10T20:06:12.338747",
     "status": "completed"
    },
    "tags": []
   },
   "outputs": [
    {
     "name": "stdout",
     "output_type": "stream",
     "text": [
      "Topic #1:\n",
      "percent, confid, 100, https, 200, video, 500, com, 300, thank\n",
      "\n",
      "Topic #2:\n",
      "percent, confid, hama, 100, israel, gaza, bomb, civilian, rocket, 200\n",
      "\n",
      "Topic #3:\n",
      "percent, confid, 100, israel, peopl, hama, palestinian, like, war, think\n",
      "\n",
      "Topic #4:\n",
      "percent, confid, 100, https, rule, question, bot, bank, eddit, pleas\n",
      "\n",
      "Topic #5:\n",
      "percent, confid, 100, 200, 300, israel, jew, land, arab, 400\n",
      "\n"
     ]
    }
   ],
   "source": [
    "# Get the feature names (words) from the vectorizer\n",
    "feature_names = vectorizer.get_feature_names_out()\n",
    "\n",
    "# Get the top words for each topic\n",
    "n_top_words = 10  # You can adjust this number to display more or fewer words per topic\n",
    "top_words_per_topic = []\n",
    "for topic_idx, topic in enumerate(lda_model.components_):\n",
    "    top_words_idx = topic.argsort()[:-n_top_words - 1:-1]\n",
    "    top_words = [feature_names[i] for i in top_words_idx]\n",
    "    top_words_per_topic.append(top_words)\n",
    "\n",
    "# Print the topics and associated words\n",
    "for topic_idx, top_words in enumerate(top_words_per_topic):\n",
    "    print(f\"Topic #{topic_idx + 1}:\")\n",
    "    print(\", \".join(top_words))\n",
    "    print()"
   ]
  },
  {
   "cell_type": "code",
   "execution_count": 45,
   "id": "871f8231",
   "metadata": {
    "execution": {
     "iopub.execute_input": "2023-12-10T20:06:12.439735Z",
     "iopub.status.busy": "2023-12-10T20:06:12.439297Z",
     "iopub.status.idle": "2023-12-10T20:06:12.444469Z",
     "shell.execute_reply": "2023-12-10T20:06:12.443421Z"
    },
    "papermill": {
     "duration": 0.03484,
     "end_time": "2023-12-10T20:06:12.446699",
     "exception": false,
     "start_time": "2023-12-10T20:06:12.411859",
     "status": "completed"
    },
    "tags": []
   },
   "outputs": [],
   "source": [
    "# Get the vocabulary indices for 'israel' and 'palestine' in your vectorizer\n",
    "israel_word_index = vectorizer.vocabulary_['israel']\n",
    "palestine_word_index = vectorizer.vocabulary_['palestine']"
   ]
  },
  {
   "cell_type": "code",
   "execution_count": 46,
   "id": "7b46aec1",
   "metadata": {
    "execution": {
     "iopub.execute_input": "2023-12-10T20:06:12.501477Z",
     "iopub.status.busy": "2023-12-10T20:06:12.500549Z",
     "iopub.status.idle": "2023-12-10T20:06:12.505597Z",
     "shell.execute_reply": "2023-12-10T20:06:12.504588Z"
    },
    "papermill": {
     "duration": 0.035008,
     "end_time": "2023-12-10T20:06:12.507886",
     "exception": false,
     "start_time": "2023-12-10T20:06:12.472878",
     "status": "completed"
    },
    "tags": []
   },
   "outputs": [],
   "source": [
    "topic_term_distribution = lda_model.components_"
   ]
  },
  {
   "cell_type": "code",
   "execution_count": 47,
   "id": "02608e7d",
   "metadata": {
    "execution": {
     "iopub.execute_input": "2023-12-10T20:06:12.560589Z",
     "iopub.status.busy": "2023-12-10T20:06:12.559612Z",
     "iopub.status.idle": "2023-12-10T20:06:12.565311Z",
     "shell.execute_reply": "2023-12-10T20:06:12.564230Z"
    },
    "papermill": {
     "duration": 0.034163,
     "end_time": "2023-12-10T20:06:12.567453",
     "exception": false,
     "start_time": "2023-12-10T20:06:12.533290",
     "status": "completed"
    },
    "tags": []
   },
   "outputs": [],
   "source": [
    "israel_topic_index = topic_term_distribution[:, israel_word_index].argmax()\n",
    "palestine_topic_index = topic_term_distribution[:, palestine_word_index].argmax()"
   ]
  },
  {
   "cell_type": "markdown",
   "id": "74113da6",
   "metadata": {
    "papermill": {
     "duration": 0.024948,
     "end_time": "2023-12-10T20:06:12.616748",
     "exception": false,
     "start_time": "2023-12-10T20:06:12.591800",
     "status": "completed"
    },
    "tags": []
   },
   "source": [
    "Geopolitical Stance Determination Using Dominant Topics and Sentiment Scores"
   ]
  },
  {
   "cell_type": "code",
   "execution_count": 48,
   "id": "36104c3c",
   "metadata": {
    "execution": {
     "iopub.execute_input": "2023-12-10T20:06:12.668987Z",
     "iopub.status.busy": "2023-12-10T20:06:12.668047Z",
     "iopub.status.idle": "2023-12-10T22:33:02.968610Z",
     "shell.execute_reply": "2023-12-10T22:33:02.967573Z"
    },
    "papermill": {
     "duration": 8810.329482,
     "end_time": "2023-12-10T22:33:02.971180",
     "exception": false,
     "start_time": "2023-12-10T20:06:12.641698",
     "status": "completed"
    },
    "tags": []
   },
   "outputs": [],
   "source": [
    "# Define the function to determine geopolitical stance\n",
    "def determine_geopolitical_stance(row):\n",
    "    sentiment_score = row['Compound']\n",
    "    topic_distribution = lda_model.transform(vectorizer.transform([row['clean_text']]))[0]\n",
    "    \n",
    "    # Determine stance based on sentiment score and dominant topic\n",
    "    if sentiment_score <= -0.5:\n",
    "        return 'Against Israel/Palestine'\n",
    "    elif sentiment_score >= 0.5 and topic_distribution.argmax() == israel_topic_index:\n",
    "        return 'Supports Israel'\n",
    "    elif sentiment_score >= 0.5 and topic_distribution.argmax() == palestine_topic_index:\n",
    "        return 'Supports Palestine'\n",
    "    else:\n",
    "        return 'Neutral/Stance Not Clear'\n",
    "\n",
    "# Apply the function to the DataFrame to determine geopolitical stances\n",
    "df['geopolitical_stance'] = df.apply(determine_geopolitical_stance, axis=1)"
   ]
  },
  {
   "cell_type": "code",
   "execution_count": 49,
   "id": "a157cfb6",
   "metadata": {
    "execution": {
     "iopub.execute_input": "2023-12-10T22:33:03.018101Z",
     "iopub.status.busy": "2023-12-10T22:33:03.017459Z",
     "iopub.status.idle": "2023-12-10T22:33:03.068784Z",
     "shell.execute_reply": "2023-12-10T22:33:03.067993Z"
    },
    "papermill": {
     "duration": 0.076241,
     "end_time": "2023-12-10T22:33:03.070776",
     "exception": false,
     "start_time": "2023-12-10T22:33:02.994535",
     "status": "completed"
    },
    "tags": []
   },
   "outputs": [
    {
     "name": "stdout",
     "output_type": "stream",
     "text": [
      "Geopolitical Stance Distribution:\n",
      "geopolitical_stance\n",
      "Neutral/Stance Not Clear    283191\n",
      "Against Israel/Palestine    120859\n",
      "Supports Israel              19842\n",
      "Supports Palestine           12822\n",
      "Name: count, dtype: int64\n"
     ]
    }
   ],
   "source": [
    "stance_counts = df['geopolitical_stance'].value_counts()\n",
    "print(\"Geopolitical Stance Distribution:\")\n",
    "print(stance_counts)"
   ]
  },
  {
   "cell_type": "code",
   "execution_count": 50,
   "id": "c6eb7fa7",
   "metadata": {
    "execution": {
     "iopub.execute_input": "2023-12-10T22:33:03.115839Z",
     "iopub.status.busy": "2023-12-10T22:33:03.115569Z",
     "iopub.status.idle": "2023-12-10T22:33:03.496396Z",
     "shell.execute_reply": "2023-12-10T22:33:03.495625Z"
    },
    "papermill": {
     "duration": 0.405569,
     "end_time": "2023-12-10T22:33:03.498292",
     "exception": false,
     "start_time": "2023-12-10T22:33:03.092723",
     "status": "completed"
    },
    "tags": []
   },
   "outputs": [
    {
     "data": {
      "image/png": "[encoded data removed]",
      "text/plain": [
       "<Figure size 800x600 with 1 Axes>"
      ]
     },
     "metadata": {},
     "output_type": "display_data"
    }
   ],
   "source": [
    "# Assuming 'geopolitical_stance' is a column in your DataFrame df\n",
    "stance_counts = df['geopolitical_stance'].value_counts()\n",
    "\n",
    "# Create bar chart using DataFrame values\n",
    "plt.figure(figsize=(8, 6))\n",
    "stance_counts.plot(kind='bar', color=['yellow', 'red', 'blue', 'green'])\n",
    "plt.xlabel('Geopolitical Stance')\n",
    "plt.ylabel('Count')\n",
    "plt.title('Geopolitical Stance Distribution')\n",
    "plt.xticks(rotation=45)  # Rotate x-axis labels for better visibility\n",
    "plt.tight_layout()\n",
    "\n",
    "# Show the chart\n",
    "plt.show()\n",
    "\n"
   ]
  }
 ],
 "metadata": {
  "kaggle": {
   "accelerator": "gpu",
   "dataSources": [
    {
     "datasetId": 4142838,
     "sourceId": 7170443,
     "sourceType": "datasetVersion"
    }
   ],
   "dockerImageVersionId": 30588,
   "isGpuEnabled": true,
   "isInternetEnabled": true,
   "language": "python",
   "sourceType": "notebook"
  },
  "kernelspec": {
   "display_name": "Python 3",
   "language": "python",
   "name": "python3"
  },
  "language_info": {
   "codemirror_mode": {
    "name": "ipython",
    "version": 3
   },
   "file_extension": ".py",
   "mimetype": "text/x-python",
   "name": "python",
   "nbconvert_exporter": "python",
   "pygments_lexer": "ipython3",
   "version": "3.10.12"
  },
  "papermill": {
   "default_parameters": {},
   "duration": 10668.725163,
   "end_time": "2023-12-10T22:33:06.474529",
   "environment_variables": {},
   "exception": null,
   "input_path": "__notebook__.ipynb",
   "output_path": "__notebook__.ipynb",
   "parameters": {},
   "start_time": "2023-12-10T19:35:17.749366",
   "version": "2.4.0"
  }
 },
 "nbformat": 4,
 "nbformat_minor": 5
}
